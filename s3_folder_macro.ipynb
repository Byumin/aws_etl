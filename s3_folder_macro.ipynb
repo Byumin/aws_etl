{
 "cells": [
  {
   "cell_type": "code",
   "execution_count": 1,
   "id": "51770667",
   "metadata": {},
   "outputs": [],
   "source": [
    "# s3 특정 경로에 있는 파일 이름 리딩\n",
    "# 정재 후 폴더 생성"
   ]
  },
  {
   "cell_type": "code",
   "execution_count": 27,
   "id": "51cfc93b",
   "metadata": {},
   "outputs": [
    {
     "name": "stdout",
     "output_type": "stream",
     "text": [
      "['c:\\\\ProgramData\\\\anaconda3\\\\python313.zip', 'c:\\\\ProgramData\\\\anaconda3\\\\DLLs', 'c:\\\\ProgramData\\\\anaconda3\\\\Lib', 'c:\\\\ProgramData\\\\anaconda3', '', 'C:\\\\Users\\\\USER\\\\AppData\\\\Roaming\\\\Python\\\\Python313\\\\site-packages', 'c:\\\\ProgramData\\\\anaconda3\\\\Lib\\\\site-packages', 'c:\\\\ProgramData\\\\anaconda3\\\\Lib\\\\site-packages\\\\win32', 'c:\\\\ProgramData\\\\anaconda3\\\\Lib\\\\site-packages\\\\win32\\\\lib', 'c:\\\\ProgramData\\\\anaconda3\\\\Lib\\\\site-packages\\\\Pythonwin']\n",
      "c:\\ProgramData\\anaconda3\\python.exe\n"
     ]
    }
   ],
   "source": [
    "import sys\n",
    "print(sys.path)\n",
    "print(sys.executable)"
   ]
  },
  {
   "cell_type": "code",
   "execution_count": 1,
   "id": "5dfb4ce2",
   "metadata": {},
   "outputs": [
    {
     "name": "stdout",
     "output_type": "stream",
     "text": [
      "[{'Prefix': 'at_basic_inquiry_val/'}, {'Prefix': 'at_formula_code/'}, {'Prefix': 'at_low_scale/'}, {'Prefix': 'at_question/'}, {'Prefix': 'at_question_choice/'}, {'Prefix': 'at_question_extra/'}, {'Prefix': 'at_scale_code/'}, {'Prefix': 'at_sub_psy_item/'}, {'Prefix': 'at_user_formula_score/'}, {'Prefix': 'at_user_scale_score/'}, {'Prefix': 'at_user_testing_paper/'}, {'Prefix': 'at_user_testing_paper_pn/'}, {'Prefix': 'at_user_testing_paper_sct/'}, {'Prefix': 'at_user_testing_paper_tr/'}, {'Prefix': 'athena/'}, {'Prefix': 'member/'}, {'Prefix': 'psy_class/'}, {'Prefix': 'psy_estimate/'}, {'Prefix': 'psy_ord/'}, {'Prefix': 'psy_ord_class/'}, {'Prefix': 'psy_target/'}, {'Prefix': 'school_class/'}, {'Prefix': 'school_info/'}, {'Prefix': 'school_student/'}, {'Prefix': 'school_teacher/'}]\n",
      "at_basic_inquiry_val/\n",
      "at_formula_code/\n",
      "at_low_scale/\n",
      "at_question/\n",
      "at_question_choice/\n",
      "at_question_extra/\n",
      "at_scale_code/\n",
      "at_sub_psy_item/\n",
      "at_user_formula_score/\n",
      "at_user_scale_score/\n",
      "at_user_testing_paper/\n",
      "at_user_testing_paper_pn/\n",
      "at_user_testing_paper_sct/\n",
      "at_user_testing_paper_tr/\n",
      "athena/\n",
      "member/\n",
      "psy_class/\n",
      "psy_estimate/\n",
      "psy_ord/\n",
      "psy_ord_class/\n",
      "psy_target/\n",
      "school_class/\n",
      "school_info/\n",
      "school_student/\n",
      "school_teacher/\n"
     ]
    }
   ],
   "source": [
    "import boto3\n",
    "import re\n",
    "\n",
    "# S3 클라이언트 생성\n",
    "s3 = boto3.client(\"s3\")\n",
    "\n",
    "bucket_name = \"schoolfriends-bym\"\n",
    "\n",
    "# 버킷 내 모든 객체 가져오기\n",
    "response = s3.list_objects_v2(Bucket=bucket_name, Delimiter=\"/\")\n",
    "\n",
    "print(response['CommonPrefixes'])\n",
    "for folder in response.get('CommonPrefixes', []):\n",
    "    print(folder['Prefix'])"
   ]
  },
  {
   "cell_type": "code",
   "execution_count": null,
   "id": "1a619040",
   "metadata": {},
   "outputs": [
    {
     "name": "stdout",
     "output_type": "stream",
     "text": [
      "Processing file: PSY_CLASS_202508291509.csv\n",
      "<re.Match object; span=(0, 9), match='PSY_CLASS'>\n",
      "psy_class\n",
      "Moving PSY_CLASS_202508291509.csv to psy_class/PSY_CLASS_202508291509.csv\n",
      "Processing file: PSY_ESTIMATE_202508291511.csv\n",
      "<re.Match object; span=(0, 12), match='PSY_ESTIMATE'>\n",
      "psy_estimate\n",
      "Moving PSY_ESTIMATE_202508291511.csv to psy_estimate/PSY_ESTIMATE_202508291511.csv\n",
      "Processing file: PSY_ORD_202508291511.csv\n",
      "<re.Match object; span=(0, 7), match='PSY_ORD'>\n",
      "psy_ord\n",
      "Moving PSY_ORD_202508291511.csv to psy_ord/PSY_ORD_202508291511.csv\n",
      "Processing file: PSY_ORD_CLASS_202508291511.csv\n",
      "<re.Match object; span=(0, 7), match='PSY_ORD'>\n",
      "psy_ord\n",
      "Moving PSY_ORD_CLASS_202508291511.csv to psy_ord/PSY_ORD_CLASS_202508291511.csv\n",
      "Processing file: PSY_TARGET_DETAIL_202508291511.csv\n",
      "<re.Match object; span=(0, 10), match='PSY_TARGET'>\n",
      "psy_target\n",
      "Moving PSY_TARGET_DETAIL_202508291511.csv to psy_target/PSY_TARGET_DETAIL_202508291511.csv\n",
      "Processing file: SCHOOL_INFO_202508291512.csv\n",
      "<re.Match object; span=(0, 11), match='SCHOOL_INFO'>\n",
      "school_info\n",
      "Moving SCHOOL_INFO_202508291512.csv to school_info/SCHOOL_INFO_202508291512.csv\n",
      "Processing file: SCHOOL_STUDENT_202508291512.csv\n",
      "<re.Match object; span=(0, 14), match='SCHOOL_STUDENT'>\n",
      "school_student\n",
      "Moving SCHOOL_STUDENT_202508291512.csv to school_student/SCHOOL_STUDENT_202508291512.csv\n",
      "Processing file: SCHOOL_TEACHER_202508291512.csv\n",
      "<re.Match object; span=(0, 14), match='SCHOOL_TEACHER'>\n",
      "school_teacher\n",
      "Moving SCHOOL_TEACHER_202508291512.csv to school_teacher/SCHOOL_TEACHER_202508291512.csv\n"
     ]
    }
   ],
   "source": [
    "# CSV 파일만 폴더 만들어서 이동 및 삭제 처리\n",
    "for obj in response.get(\"Contents\", []):\n",
    "    key = obj[\"Key\"]\n",
    "    if \"/\" not in key and key.lower().endswith(\".csv\"):\n",
    "        print(f\"Processing file: {key}\")\n",
    "        match = re.search(r\"([A-Z]+)_([A-Z]+)\", key)\n",
    "        print(match)\n",
    "        folder_name = match.group(0).lower()\n",
    "        print(folder_name)\n",
    "        new_key = f\"{folder_name}/{key}\"\n",
    "        print(f\"Moving {key} to {new_key}\")\n",
    "\n",
    "        # S3 내에서 파일 복사\n",
    "        s3.copy_object(\n",
    "            Bucket=bucket_name,\n",
    "            CopySource={\"Bucket\": bucket_name, \"Key\": key},\n",
    "            Key=new_key\n",
    "        )\n",
    "\n",
    "        # 원본 삭제\n",
    "        s3.delete_object(Bucket=bucket_name, Key=key)\n",
    "    else:\n",
    "        pass"
   ]
  },
  {
   "cell_type": "code",
   "execution_count": 2,
   "id": "30828b7b",
   "metadata": {},
   "outputs": [
    {
     "name": "stdout",
     "output_type": "stream",
     "text": [
      "s3에 있는 폴더명 : ['at_basic_inquiry_val', 'at_formula_code', 'at_low_scale', 'at_question', 'at_question_choice', 'at_question_extra', 'at_scale_code', 'at_sub_psy_item', 'at_user_formula_score', 'at_user_scale_score', 'at_user_testing_paper', 'at_user_testing_paper_pn', 'at_user_testing_paper_sct', 'at_user_testing_paper_tr', 'athena', 'member', 'psy_class', 'psy_estimate', 'psy_ord', 'psy_ord_class', 'psy_target', 'school_class', 'school_info', 'school_student', 'school_teacher']\n",
      "Crawler 'crawler_at_basic_inquiry_val' already exists.\n",
      "Crawler 'crawler_at_formula_code' already exists.\n",
      "Crawler 'crawler_at_low_scale' already exists.\n",
      "Crawler 'crawler_at_question' already exists.\n",
      "Crawler 'crawler_at_question_choice' already exists.\n",
      "Crawler 'crawler_at_question_extra' already exists.\n",
      "Crawler 'crawler_at_scale_code' already exists.\n",
      "Crawler 'crawler_at_sub_psy_item' already exists.\n",
      "Crawler 'crawler_at_user_formula_score' already exists.\n",
      "Crawler 'crawler_at_user_scale_score' already exists.\n",
      "Crawler 'crawler_at_user_testing_paper' already exists.\n",
      "Crawler 'crawler_at_user_testing_paper_pn' already exists.\n",
      "Crawler 'crawler_at_user_testing_paper_sct' already exists.\n",
      "Crawler 'crawler_at_user_testing_paper_tr' already exists.\n",
      "Crawler 'crawler_athena' created successfully.\n",
      "Crawler 'crawler_member' created successfully.\n",
      "Crawler 'crawler_psy_class' already exists.\n",
      "Crawler 'crawler_psy_estimate' already exists.\n",
      "Crawler 'crawler_psy_ord' already exists.\n",
      "Crawler 'crawler_psy_ord_class' already exists.\n",
      "Crawler 'crawler_psy_target' already exists.\n",
      "Crawler 'crawler_school_class' already exists.\n",
      "Crawler 'crawler_school_info' already exists.\n",
      "Crawler 'crawler_school_student' already exists.\n",
      "Crawler 'crawler_school_teacher' already exists.\n"
     ]
    }
   ],
   "source": [
    "# 폴더 이름 리스트화\n",
    "s3 = boto3.client(\"s3\")\n",
    "bucket_name = \"schoolfriends-bym\"\n",
    "response = s3.list_objects_v2(Bucket=bucket_name, Delimiter=\"/\")\n",
    "folder_names = []\n",
    "for folder in response.get(\"CommonPrefixes\", []):\n",
    "    folder_name = folder[\"Prefix\"].split(\"/\")[0]\n",
    "    folder_names.append(folder_name)\n",
    "\n",
    "print('s3에 있는 폴더명 :', folder_names)\n",
    "\n",
    "# s3 폴더 별로 크롤러 만들어서 아테네 테이블 만들때\n",
    "glue = boto3.client(\"glue\", region_name=\"ap-northeast-2\")\n",
    "\n",
    "# 공통 파라미터\n",
    "role_name = 'arn:aws:iam::932744610695:role/service-role/AWSGlueServiceRole-Schoolfriends'\n",
    "database_name = 'schoolfriends'\n",
    "bucket_name = 'schoolfriends-bym'\n",
    "\n",
    "for folder in folder_names:\n",
    "    crawler_name = f\"crawler_{folder}\"\n",
    "    s3_target_path = f\"s3://{bucket_name}/{folder}/\"\n",
    "    \n",
    "    try:\n",
    "        response = glue.create_crawler(\n",
    "            Name=crawler_name,\n",
    "            Role=role_name,\n",
    "            DatabaseName=database_name,\n",
    "            Targets={'S3Targets': [{'Path': s3_target_path}]},\n",
    "            SchemaChangePolicy={\n",
    "                'UpdateBehavior': 'LOG',\n",
    "                'DeleteBehavior': 'LOG'\n",
    "            }\n",
    "        )\n",
    "        print(f\"Crawler '{crawler_name}' created successfully.\")\n",
    "    except glue.exceptions.AlreadyExistsException:\n",
    "        print(f\"Crawler '{crawler_name}' already exists.\")\n",
    "    except Exception as e:\n",
    "        print(f\"Error creating crawler '{crawler_name}': {e}\")"
   ]
  },
  {
   "cell_type": "code",
   "execution_count": 25,
   "id": "b2a71010",
   "metadata": {},
   "outputs": [
    {
     "name": "stdout",
     "output_type": "stream",
     "text": [
      "['amazon_reviews_partitioned_crawler', 'crawler_at_basic_inquiry_val', 'crawler_at_formula_code', 'crawler_at_low_scale', 'crawler_at_question', 'crawler_at_question_choice', 'crawler_at_question_extra', 'crawler_at_scale_code', 'crawler_at_sub_psy_item', 'crawler_at_user_formula_score', 'crawler_at_user_scale_score', 'crawler_at_user_testing_paper', 'crawler_at_user_testing_paper_pn', 'crawler_at_user_testing_paper_sct', 'crawler_at_user_testing_paper_tr', 'crawler_member', 'crawler_psy_class', 'crawler_psy_estimate', 'crawler_psy_ord', 'crawler_psy_target', 'crawler_school_class', 'crawler_school_info', 'crawler_school_student', 'crawler_school_teacher', 'schoolfriends_member_crawler']\n"
     ]
    }
   ],
   "source": [
    "# 각 크롤러의 속성을 변경하고 싶은 경우\n",
    "# - 이미 생성된 Glue의 크롤러의 속성을 변경하고 싶은 경우\n",
    "# - 예를 들어 스키마 구조 변경 정책(SchemaChangePolicy) 등 일괄 변경\n",
    "import boto3\n",
    "\n",
    "glue = boto3.client(\"glue\", region_name=\"ap-northeast-2\")\n",
    "\n",
    "# 크롤러 이름 리스트 가져오기\n",
    "response = glue.list_crawlers()\n",
    "crawler_names = response.get(\"CrawlerNames\", [])\n",
    "print(crawler_names)"
   ]
  },
  {
   "cell_type": "code",
   "execution_count": 35,
   "id": "ba7fd702",
   "metadata": {},
   "outputs": [
    {
     "name": "stdout",
     "output_type": "stream",
     "text": [
      "✅ crawler_at_basic_inquiry_val 의 SchemaChangePolicy 업데이트 완료\n",
      "✅ crawler_at_formula_code 의 SchemaChangePolicy 업데이트 완료\n",
      "✅ crawler_at_low_scale 의 SchemaChangePolicy 업데이트 완료\n",
      "✅ crawler_at_question 의 SchemaChangePolicy 업데이트 완료\n",
      "✅ crawler_at_question_choice 의 SchemaChangePolicy 업데이트 완료\n",
      "✅ crawler_at_question_extra 의 SchemaChangePolicy 업데이트 완료\n",
      "✅ crawler_at_scale_code 의 SchemaChangePolicy 업데이트 완료\n",
      "✅ crawler_at_sub_psy_item 의 SchemaChangePolicy 업데이트 완료\n",
      "✅ crawler_at_user_formula_score 의 SchemaChangePolicy 업데이트 완료\n",
      "✅ crawler_at_user_scale_score 의 SchemaChangePolicy 업데이트 완료\n",
      "✅ crawler_at_user_testing_paper 의 SchemaChangePolicy 업데이트 완료\n",
      "✅ crawler_at_user_testing_paper_pn 의 SchemaChangePolicy 업데이트 완료\n",
      "✅ crawler_at_user_testing_paper_sct 의 SchemaChangePolicy 업데이트 완료\n",
      "✅ crawler_at_user_testing_paper_tr 의 SchemaChangePolicy 업데이트 완료\n",
      "✅ crawler_member 의 SchemaChangePolicy 업데이트 완료\n",
      "✅ crawler_school_class 의 SchemaChangePolicy 업데이트 완료\n"
     ]
    }
   ],
   "source": [
    "import time\n",
    "for crawler in crawler_names:\n",
    "    if crawler.startswith(\"crawler_\"):\n",
    "        try:\n",
    "            glue.update_crawler(\n",
    "                Name=crawler,\n",
    "                SchemaChangePolicy={\n",
    "                    \"UpdateBehavior\": \"LOG\",\n",
    "                    \"DeleteBehavior\": \"LOG\"\n",
    "                }\n",
    "            )\n",
    "            print(f\"✅ {crawler} 의 SchemaChangePolicy 업데이트 완료\")\n",
    "            time.sleep(1)\n",
    "        except Exception as e:\n",
    "            print(f\"❌ {crawler} 업데이트 실패: {repr(e)}\")"
   ]
  },
  {
   "cell_type": "code",
   "execution_count": null,
   "id": "b7e329b8",
   "metadata": {},
   "outputs": [
    {
     "name": "stdout",
     "output_type": "stream",
     "text": [
      "[{'Name': 'at_basic_inquiry_val', 'DatabaseName': 'schoolfriends', 'Owner': 'owner', 'CreateTime': datetime.datetime(2025, 9, 1, 14, 49, 45, tzinfo=tzlocal()), 'UpdateTime': datetime.datetime(2025, 9, 1, 14, 49, 45, tzinfo=tzlocal()), 'LastAccessTime': datetime.datetime(2025, 9, 1, 14, 49, 45, tzinfo=tzlocal()), 'Retention': 0, 'StorageDescriptor': {'Columns': [{'Name': 'user_testing_no', 'Type': 'string'}, {'Name': 'psy_item_id', 'Type': 'string'}, {'Name': 'psy_item_ver', 'Type': 'string'}, {'Name': 'sub_psy_item_id', 'Type': 'bigint'}, {'Name': 'age_ext_sub_psy_item_id', 'Type': 'string'}, {'Name': 'kabc_sub_psy_item_id', 'Type': 'string'}, {'Name': 'testing_org', 'Type': 'string'}, {'Name': 'birthday', 'Type': 'string'}, {'Name': 'sex', 'Type': 'string'}, {'Name': 'at_region_cd', 'Type': 'string'}, {'Name': 'testing_date', 'Type': 'string'}, {'Name': 'name', 'Type': 'string'}, {'Name': 'at_age_cd', 'Type': 'string'}, {'Name': 'at_extension_age_cd', 'Type': 'string'}, {'Name': 'at_school_type_cd', 'Type': 'string'}, {'Name': 'at_school_age_cd', 'Type': 'string'}, {'Name': 'subs_yn', 'Type': 'string'}, {'Name': 'supp_yn', 'Type': 'string'}, {'Name': 'age_extension_yn', 'Type': 'string'}, {'Name': 'member_no', 'Type': 'string'}, {'Name': 'tester_name', 'Type': 'string'}, {'Name': 'reg_date', 'Type': 'string'}, {'Name': 'yyyymm', 'Type': 'bigint'}, {'Name': 'inspection_seq', 'Type': 'bigint'}, {'Name': 'email', 'Type': 'string'}, {'Name': 'cellphone_num', 'Type': 'string'}, {'Name': 'shcool_name', 'Type': 'string'}, {'Name': 'shcool_type', 'Type': 'string'}, {'Name': 'grade', 'Type': 'string'}, {'Name': 'class_department', 'Type': 'string'}, {'Name': 'chg_yn', 'Type': 'string'}, {'Name': 'psy_terminal_cd', 'Type': 'string'}, {'Name': 'psy_terminal_browser_cd', 'Type': 'string'}, {'Name': 'tester_member_no', 'Type': 'string'}], 'Location': 's3://schoolfriends-bym/at_basic_inquiry_val/', 'InputFormat': 'org.apache.hadoop.mapred.TextInputFormat', 'OutputFormat': 'org.apache.hadoop.hive.ql.io.HiveIgnoreKeyTextOutputFormat', 'Compressed': False, 'NumberOfBuckets': -1, 'SerdeInfo': {'SerializationLibrary': 'org.apache.hadoop.hive.serde2.lazy.LazySimpleSerDe', 'Parameters': {'field.delim': ','}}, 'BucketColumns': [], 'SortColumns': [], 'Parameters': {'skip.header.line.count': '1', 'sizeKey': '79095', 'objectCount': '1', 'UPDATED_BY_CRAWLER': 'crawler_at_basic_inquiry_val', 'recordCount': '322', 'CrawlerSchemaSerializerVersion': '1.0', 'averageRecordSize': '245', 'compressionType': 'none', 'CrawlerSchemaDeserializerVersion': '1.0', 'classification': 'csv', 'columnsOrdered': 'true', 'delimiter': ',', 'areColumnsQuoted': 'false', 'CRAWL_RUN_ID': '14ce0635-4f64-482a-923a-1a074e2644f5', 'typeOfData': 'file'}, 'StoredAsSubDirectories': False}, 'PartitionKeys': [], 'TableType': 'EXTERNAL_TABLE', 'Parameters': {'skip.header.line.count': '1', 'sizeKey': '79095', 'objectCount': '1', 'UPDATED_BY_CRAWLER': 'crawler_at_basic_inquiry_val', 'recordCount': '322', 'CrawlerSchemaSerializerVersion': '1.0', 'averageRecordSize': '245', 'compressionType': 'none', 'CrawlerSchemaDeserializerVersion': '1.0', 'classification': 'csv', 'columnsOrdered': 'true', 'delimiter': ',', 'areColumnsQuoted': 'false', 'CRAWL_RUN_ID': '14ce0635-4f64-482a-923a-1a074e2644f5', 'typeOfData': 'file'}, 'CreatedBy': 'arn:aws:sts::932744610695:assumed-role/AWSGlueServiceRole-Schoolfriends/AWS-Crawler', 'IsRegisteredWithLakeFormation': False, 'CatalogId': '932744610695', 'VersionId': '0', 'IsMultiDialectView': False}, {'Name': 'at_formula_code', 'DatabaseName': 'schoolfriends', 'Owner': 'owner', 'CreateTime': datetime.datetime(2025, 9, 1, 14, 49, 50, tzinfo=tzlocal()), 'UpdateTime': datetime.datetime(2025, 9, 1, 14, 49, 50, tzinfo=tzlocal()), 'LastAccessTime': datetime.datetime(2025, 9, 1, 14, 49, 50, tzinfo=tzlocal()), 'Retention': 0, 'StorageDescriptor': {'Columns': [{'Name': 'psy_item_id', 'Type': 'string'}, {'Name': 'psy_item_ver', 'Type': 'string'}, {'Name': 'sub_psy_item_id', 'Type': 'bigint'}, {'Name': 'formula_code', 'Type': 'string'}, {'Name': 'formula_code_nm', 'Type': 'string'}, {'Name': 'formula_desc', 'Type': 'string'}, {'Name': 'excel_formula', 'Type': 'string'}], 'Location': 's3://schoolfriends-bym/at_formula_code/', 'InputFormat': 'org.apache.hadoop.mapred.TextInputFormat', 'OutputFormat': 'org.apache.hadoop.hive.ql.io.HiveIgnoreKeyTextOutputFormat', 'Compressed': False, 'NumberOfBuckets': -1, 'SerdeInfo': {'SerializationLibrary': 'org.apache.hadoop.hive.serde2.lazy.LazySimpleSerDe', 'Parameters': {'field.delim': ','}}, 'BucketColumns': [], 'SortColumns': [], 'Parameters': {'skip.header.line.count': '1', 'sizeKey': '1544', 'objectCount': '1', 'UPDATED_BY_CRAWLER': 'crawler_at_formula_code', 'recordCount': '18', 'CrawlerSchemaSerializerVersion': '1.0', 'averageRecordSize': '82', 'compressionType': 'none', 'CrawlerSchemaDeserializerVersion': '1.0', 'classification': 'csv', 'columnsOrdered': 'true', 'delimiter': ',', 'areColumnsQuoted': 'false', 'CRAWL_RUN_ID': '86ed0ee0-a44e-420b-8da7-c13ab628d902', 'typeOfData': 'file'}, 'StoredAsSubDirectories': False}, 'PartitionKeys': [], 'TableType': 'EXTERNAL_TABLE', 'Parameters': {'skip.header.line.count': '1', 'sizeKey': '1544', 'objectCount': '1', 'UPDATED_BY_CRAWLER': 'crawler_at_formula_code', 'recordCount': '18', 'CrawlerSchemaSerializerVersion': '1.0', 'averageRecordSize': '82', 'compressionType': 'none', 'CrawlerSchemaDeserializerVersion': '1.0', 'classification': 'csv', 'columnsOrdered': 'true', 'delimiter': ',', 'areColumnsQuoted': 'false', 'CRAWL_RUN_ID': '86ed0ee0-a44e-420b-8da7-c13ab628d902', 'typeOfData': 'file'}, 'CreatedBy': 'arn:aws:sts::932744610695:assumed-role/AWSGlueServiceRole-Schoolfriends/AWS-Crawler', 'IsRegisteredWithLakeFormation': False, 'CatalogId': '932744610695', 'VersionId': '0', 'IsMultiDialectView': False}, {'Name': 'at_low_scale', 'DatabaseName': 'schoolfriends', 'Owner': 'owner', 'CreateTime': datetime.datetime(2025, 9, 1, 14, 49, 53, tzinfo=tzlocal()), 'UpdateTime': datetime.datetime(2025, 9, 1, 14, 49, 53, tzinfo=tzlocal()), 'LastAccessTime': datetime.datetime(2025, 9, 1, 14, 49, 53, tzinfo=tzlocal()), 'Retention': 0, 'StorageDescriptor': {'Columns': [{'Name': 'psy_item_id', 'Type': 'string'}, {'Name': 'psy_item_ver', 'Type': 'string'}, {'Name': 'sub_psy_item_id', 'Type': 'bigint'}, {'Name': 'low_scale_code', 'Type': 'string'}, {'Name': 'scale_manage_no', 'Type': 'bigint'}, {'Name': 'question_no', 'Type': 'bigint'}, {'Name': 'average', 'Type': 'string'}, {'Name': 'standard_deviation', 'Type': 'string'}, {'Name': 'supp_yn', 'Type': 'string'}, {'Name': 'no_scale_yn', 'Type': 'string'}], 'Location': 's3://schoolfriends-bym/at_low_scale/', 'InputFormat': 'org.apache.hadoop.mapred.TextInputFormat', 'OutputFormat': 'org.apache.hadoop.hive.ql.io.HiveIgnoreKeyTextOutputFormat', 'Compressed': False, 'NumberOfBuckets': -1, 'SerdeInfo': {'SerializationLibrary': 'org.apache.hadoop.hive.serde2.lazy.LazySimpleSerDe', 'Parameters': {'field.delim': ','}}, 'BucketColumns': [], 'SortColumns': [], 'Parameters': {'skip.header.line.count': '1', 'sizeKey': '5016', 'objectCount': '1', 'UPDATED_BY_CRAWLER': 'crawler_at_low_scale', 'recordCount': '62', 'CrawlerSchemaSerializerVersion': '1.0', 'averageRecordSize': '80', 'compressionType': 'none', 'CrawlerSchemaDeserializerVersion': '1.0', 'classification': 'csv', 'columnsOrdered': 'true', 'delimiter': ',', 'areColumnsQuoted': 'false', 'CRAWL_RUN_ID': '6085814a-e25e-4341-86ac-4ef1d9a454a4', 'typeOfData': 'file'}, 'StoredAsSubDirectories': False}, 'PartitionKeys': [], 'TableType': 'EXTERNAL_TABLE', 'Parameters': {'skip.header.line.count': '1', 'sizeKey': '5016', 'objectCount': '1', 'UPDATED_BY_CRAWLER': 'crawler_at_low_scale', 'recordCount': '62', 'CrawlerSchemaSerializerVersion': '1.0', 'averageRecordSize': '80', 'compressionType': 'none', 'CrawlerSchemaDeserializerVersion': '1.0', 'classification': 'csv', 'columnsOrdered': 'true', 'delimiter': ',', 'areColumnsQuoted': 'false', 'CRAWL_RUN_ID': '6085814a-e25e-4341-86ac-4ef1d9a454a4', 'typeOfData': 'file'}, 'CreatedBy': 'arn:aws:sts::932744610695:assumed-role/AWSGlueServiceRole-Schoolfriends/AWS-Crawler', 'IsRegisteredWithLakeFormation': False, 'CatalogId': '932744610695', 'VersionId': '0', 'IsMultiDialectView': False}, {'Name': 'at_question', 'DatabaseName': 'schoolfriends', 'Owner': 'owner', 'CreateTime': datetime.datetime(2025, 9, 1, 14, 49, 48, tzinfo=tzlocal()), 'UpdateTime': datetime.datetime(2025, 9, 1, 14, 49, 48, tzinfo=tzlocal()), 'LastAccessTime': datetime.datetime(2025, 9, 1, 14, 49, 48, tzinfo=tzlocal()), 'Retention': 0, 'StorageDescriptor': {'Columns': [{'Name': 'psy_item_id', 'Type': 'string'}, {'Name': 'psy_item_ver', 'Type': 'string'}, {'Name': 'sub_psy_item_id', 'Type': 'bigint'}, {'Name': 'question_no', 'Type': 'bigint'}, {'Name': 'reaction_title', 'Type': 'string'}, {'Name': 'img_file_path', 'Type': 'string'}, {'Name': 'img_file_nm', 'Type': 'string'}, {'Name': 'min_score', 'Type': 'bigint'}, {'Name': 'max_score', 'Type': 'bigint'}, {'Name': 'no_scale_yn', 'Type': 'string'}, {'Name': 'media_file_path', 'Type': 'string'}, {'Name': 'media_file_nm', 'Type': 'string'}, {'Name': 'time_limit', 'Type': 'string'}], 'Location': 's3://schoolfriends-bym/at_question/', 'InputFormat': 'org.apache.hadoop.mapred.TextInputFormat', 'OutputFormat': 'org.apache.hadoop.hive.ql.io.HiveIgnoreKeyTextOutputFormat', 'Compressed': False, 'NumberOfBuckets': -1, 'SerdeInfo': {'SerializationLibrary': 'org.apache.hadoop.hive.serde2.lazy.LazySimpleSerDe', 'Parameters': {'field.delim': ','}}, 'BucketColumns': [], 'SortColumns': [], 'Parameters': {'skip.header.line.count': '1', 'sizeKey': '15625', 'objectCount': '1', 'UPDATED_BY_CRAWLER': 'crawler_at_question', 'recordCount': '138', 'CrawlerSchemaSerializerVersion': '1.0', 'averageRecordSize': '113', 'compressionType': 'none', 'CrawlerSchemaDeserializerVersion': '1.0', 'classification': 'csv', 'columnsOrdered': 'true', 'delimiter': ',', 'areColumnsQuoted': 'false', 'CRAWL_RUN_ID': 'a88549a0-a212-41f2-9a2f-d5112fa4bdc9', 'typeOfData': 'file'}, 'StoredAsSubDirectories': False}, 'PartitionKeys': [], 'TableType': 'EXTERNAL_TABLE', 'Parameters': {'skip.header.line.count': '1', 'sizeKey': '15625', 'objectCount': '1', 'UPDATED_BY_CRAWLER': 'crawler_at_question', 'recordCount': '138', 'CrawlerSchemaSerializerVersion': '1.0', 'averageRecordSize': '113', 'compressionType': 'none', 'CrawlerSchemaDeserializerVersion': '1.0', 'classification': 'csv', 'columnsOrdered': 'true', 'delimiter': ',', 'areColumnsQuoted': 'false', 'CRAWL_RUN_ID': 'a88549a0-a212-41f2-9a2f-d5112fa4bdc9', 'typeOfData': 'file'}, 'CreatedBy': 'arn:aws:sts::932744610695:assumed-role/AWSGlueServiceRole-Schoolfriends/AWS-Crawler', 'IsRegisteredWithLakeFormation': False, 'CatalogId': '932744610695', 'VersionId': '0', 'IsMultiDialectView': False}, {'Name': 'at_question_choice', 'DatabaseName': 'schoolfriends', 'Owner': 'owner', 'CreateTime': datetime.datetime(2025, 9, 1, 14, 49, 39, tzinfo=tzlocal()), 'UpdateTime': datetime.datetime(2025, 9, 1, 14, 49, 39, tzinfo=tzlocal()), 'LastAccessTime': datetime.datetime(2025, 9, 1, 14, 49, 39, tzinfo=tzlocal()), 'Retention': 0, 'StorageDescriptor': {'Columns': [{'Name': 'psy_item_id', 'Type': 'string'}, {'Name': 'psy_item_ver', 'Type': 'string'}, {'Name': 'sub_psy_item_id', 'Type': 'bigint'}, {'Name': 'question_no', 'Type': 'bigint'}, {'Name': 'choice_no', 'Type': 'bigint'}, {'Name': 'choice_direction', 'Type': 'string'}, {'Name': 'choice_score', 'Type': 'bigint'}, {'Name': 'img_file_path', 'Type': 'string'}, {'Name': 'img_file_nm', 'Type': 'string'}, {'Name': 'media_file_path', 'Type': 'string'}, {'Name': 'media_file_nm', 'Type': 'string'}], 'Location': 's3://schoolfriends-bym/at_question_choice/', 'InputFormat': 'org.apache.hadoop.mapred.TextInputFormat', 'OutputFormat': 'org.apache.hadoop.hive.ql.io.HiveIgnoreKeyTextOutputFormat', 'Compressed': False, 'NumberOfBuckets': -1, 'SerdeInfo': {'SerializationLibrary': 'org.apache.hadoop.hive.serde2.lazy.LazySimpleSerDe', 'Parameters': {'field.delim': ','}}, 'BucketColumns': [], 'SortColumns': [], 'Parameters': {'skip.header.line.count': '1', 'sizeKey': '34676', 'objectCount': '1', 'UPDATED_BY_CRAWLER': 'crawler_at_question_choice', 'recordCount': '365', 'CrawlerSchemaSerializerVersion': '1.0', 'averageRecordSize': '95', 'compressionType': 'none', 'CrawlerSchemaDeserializerVersion': '1.0', 'classification': 'csv', 'columnsOrdered': 'true', 'delimiter': ',', 'areColumnsQuoted': 'false', 'CRAWL_RUN_ID': 'c4f578aa-e9ee-4668-936b-cf4005d6097c', 'typeOfData': 'file'}, 'StoredAsSubDirectories': False}, 'PartitionKeys': [], 'TableType': 'EXTERNAL_TABLE', 'Parameters': {'skip.header.line.count': '1', 'sizeKey': '34676', 'objectCount': '1', 'UPDATED_BY_CRAWLER': 'crawler_at_question_choice', 'recordCount': '365', 'CrawlerSchemaSerializerVersion': '1.0', 'averageRecordSize': '95', 'compressionType': 'none', 'CrawlerSchemaDeserializerVersion': '1.0', 'classification': 'csv', 'columnsOrdered': 'true', 'delimiter': ',', 'areColumnsQuoted': 'false', 'CRAWL_RUN_ID': 'c4f578aa-e9ee-4668-936b-cf4005d6097c', 'typeOfData': 'file'}, 'CreatedBy': 'arn:aws:sts::932744610695:assumed-role/AWSGlueServiceRole-Schoolfriends/AWS-Crawler', 'IsRegisteredWithLakeFormation': False, 'CatalogId': '932744610695', 'VersionId': '0', 'IsMultiDialectView': False}, {'Name': 'at_question_extra', 'DatabaseName': 'schoolfriends', 'Owner': 'owner', 'CreateTime': datetime.datetime(2025, 9, 1, 14, 49, 44, tzinfo=tzlocal()), 'UpdateTime': datetime.datetime(2025, 9, 1, 14, 49, 44, tzinfo=tzlocal()), 'LastAccessTime': datetime.datetime(2025, 9, 1, 14, 49, 44, tzinfo=tzlocal()), 'Retention': 0, 'StorageDescriptor': {'Columns': [{'Name': 'psy_item_id', 'Type': 'string'}, {'Name': 'psy_item_ver', 'Type': 'string'}, {'Name': 'sub_psy_item_id', 'Type': 'bigint'}, {'Name': 'question_code', 'Type': 'string'}, {'Name': 'question_no', 'Type': 'bigint'}, {'Name': 'reaction_title', 'Type': 'string'}], 'Location': 's3://schoolfriends-bym/at_question_extra/', 'InputFormat': 'org.apache.hadoop.mapred.TextInputFormat', 'OutputFormat': 'org.apache.hadoop.hive.ql.io.HiveIgnoreKeyTextOutputFormat', 'Compressed': False, 'NumberOfBuckets': -1, 'SerdeInfo': {'SerializationLibrary': 'org.apache.hadoop.hive.serde2.lazy.LazySimpleSerDe', 'Parameters': {'field.delim': ','}}, 'BucketColumns': [], 'SortColumns': [], 'Parameters': {'skip.header.line.count': '1', 'sizeKey': '3587', 'objectCount': '1', 'UPDATED_BY_CRAWLER': 'crawler_at_question_extra', 'recordCount': '55', 'CrawlerSchemaSerializerVersion': '1.0', 'averageRecordSize': '65', 'compressionType': 'none', 'CrawlerSchemaDeserializerVersion': '1.0', 'classification': 'csv', 'columnsOrdered': 'true', 'delimiter': ',', 'areColumnsQuoted': 'false', 'CRAWL_RUN_ID': 'e83a2fad-cd31-4fcf-8725-31f541ad087b', 'typeOfData': 'file'}, 'StoredAsSubDirectories': False}, 'PartitionKeys': [], 'TableType': 'EXTERNAL_TABLE', 'Parameters': {'skip.header.line.count': '1', 'sizeKey': '3587', 'objectCount': '1', 'UPDATED_BY_CRAWLER': 'crawler_at_question_extra', 'recordCount': '55', 'CrawlerSchemaSerializerVersion': '1.0', 'averageRecordSize': '65', 'compressionType': 'none', 'CrawlerSchemaDeserializerVersion': '1.0', 'classification': 'csv', 'columnsOrdered': 'true', 'delimiter': ',', 'areColumnsQuoted': 'false', 'CRAWL_RUN_ID': 'e83a2fad-cd31-4fcf-8725-31f541ad087b', 'typeOfData': 'file'}, 'CreatedBy': 'arn:aws:sts::932744610695:assumed-role/AWSGlueServiceRole-Schoolfriends/AWS-Crawler', 'IsRegisteredWithLakeFormation': False, 'CatalogId': '932744610695', 'VersionId': '0', 'IsMultiDialectView': False}, {'Name': 'at_scale_code', 'DatabaseName': 'schoolfriends', 'Owner': 'owner', 'CreateTime': datetime.datetime(2025, 9, 1, 14, 49, 40, tzinfo=tzlocal()), 'UpdateTime': datetime.datetime(2025, 9, 1, 14, 49, 40, tzinfo=tzlocal()), 'LastAccessTime': datetime.datetime(2025, 9, 1, 14, 49, 40, tzinfo=tzlocal()), 'Retention': 0, 'StorageDescriptor': {'Columns': [{'Name': 'psy_item_id', 'Type': 'string'}, {'Name': 'psy_item_ver', 'Type': 'string'}, {'Name': 'sub_psy_item_id', 'Type': 'bigint'}, {'Name': 'scale_code', 'Type': 'string'}, {'Name': 'scale_code_nm', 'Type': 'string'}, {'Name': 'scale_level', 'Type': 'bigint'}, {'Name': 'scale_desc', 'Type': 'string'}], 'Location': 's3://schoolfriends-bym/at_scale_code/', 'InputFormat': 'org.apache.hadoop.mapred.TextInputFormat', 'OutputFormat': 'org.apache.hadoop.hive.ql.io.HiveIgnoreKeyTextOutputFormat', 'Compressed': False, 'NumberOfBuckets': -1, 'SerdeInfo': {'SerializationLibrary': 'org.apache.hadoop.hive.serde2.lazy.LazySimpleSerDe', 'Parameters': {'field.delim': ','}}, 'BucketColumns': [], 'SortColumns': [], 'Parameters': {'skip.header.line.count': '1', 'sizeKey': '1144', 'objectCount': '1', 'UPDATED_BY_CRAWLER': 'crawler_at_scale_code', 'recordCount': '17', 'CrawlerSchemaSerializerVersion': '1.0', 'averageRecordSize': '64', 'compressionType': 'none', 'CrawlerSchemaDeserializerVersion': '1.0', 'classification': 'csv', 'columnsOrdered': 'true', 'delimiter': ',', 'areColumnsQuoted': 'false', 'CRAWL_RUN_ID': 'e42235af-39b7-4a5c-ac2c-4c4144ec610f', 'typeOfData': 'file'}, 'StoredAsSubDirectories': False}, 'PartitionKeys': [], 'TableType': 'EXTERNAL_TABLE', 'Parameters': {'skip.header.line.count': '1', 'sizeKey': '1144', 'objectCount': '1', 'UPDATED_BY_CRAWLER': 'crawler_at_scale_code', 'recordCount': '17', 'CrawlerSchemaSerializerVersion': '1.0', 'averageRecordSize': '64', 'compressionType': 'none', 'CrawlerSchemaDeserializerVersion': '1.0', 'classification': 'csv', 'columnsOrdered': 'true', 'delimiter': ',', 'areColumnsQuoted': 'false', 'CRAWL_RUN_ID': 'e42235af-39b7-4a5c-ac2c-4c4144ec610f', 'typeOfData': 'file'}, 'CreatedBy': 'arn:aws:sts::932744610695:assumed-role/AWSGlueServiceRole-Schoolfriends/AWS-Crawler', 'IsRegisteredWithLakeFormation': False, 'CatalogId': '932744610695', 'VersionId': '0', 'IsMultiDialectView': False}, {'Name': 'at_sub_psy_item', 'DatabaseName': 'schoolfriends', 'Owner': 'owner', 'CreateTime': datetime.datetime(2025, 9, 1, 14, 49, 52, tzinfo=tzlocal()), 'UpdateTime': datetime.datetime(2025, 9, 1, 14, 49, 52, tzinfo=tzlocal()), 'LastAccessTime': datetime.datetime(2025, 9, 1, 14, 49, 52, tzinfo=tzlocal()), 'Retention': 0, 'StorageDescriptor': {'Columns': [{'Name': 'psy_item_id', 'Type': 'string'}, {'Name': 'psy_item_ver', 'Type': 'string'}, {'Name': 'sub_psy_item_id', 'Type': 'bigint'}, {'Name': 'sub_psy_item_desc', 'Type': 'string'}, {'Name': 'use_yn', 'Type': 'string'}, {'Name': 'sex_cd', 'Type': 'string'}, {'Name': 'start_age_cd', 'Type': 'string'}, {'Name': 'end_age_cd', 'Type': 'string'}, {'Name': 'start_school_age_cd', 'Type': 'bigint'}, {'Name': 'end_school_age_cd', 'Type': 'bigint'}, {'Name': 'tm_cd', 'Type': 'string'}, {'Name': 'cs_cd', 'Type': 'string'}, {'Name': 'ci_cd', 'Type': 'string'}, {'Name': 'sl_cd', 'Type': 'string'}, {'Name': 'tb_cd', 'Type': 'string'}], 'Location': 's3://schoolfriends-bym/at_sub_psy_item/', 'InputFormat': 'org.apache.hadoop.mapred.TextInputFormat', 'OutputFormat': 'org.apache.hadoop.hive.ql.io.HiveIgnoreKeyTextOutputFormat', 'Compressed': False, 'NumberOfBuckets': -1, 'SerdeInfo': {'SerializationLibrary': 'org.apache.hadoop.hive.serde2.lazy.LazySimpleSerDe', 'Parameters': {'field.delim': ','}}, 'BucketColumns': [], 'SortColumns': [], 'Parameters': {'skip.header.line.count': '1', 'sizeKey': '447', 'objectCount': '1', 'UPDATED_BY_CRAWLER': 'crawler_at_sub_psy_item', 'recordCount': '3', 'CrawlerSchemaSerializerVersion': '1.0', 'averageRecordSize': '144', 'compressionType': 'none', 'CrawlerSchemaDeserializerVersion': '1.0', 'classification': 'csv', 'columnsOrdered': 'true', 'delimiter': ',', 'areColumnsQuoted': 'false', 'CRAWL_RUN_ID': 'e9104618-ae3f-4075-b84a-235fba34f497', 'typeOfData': 'file'}, 'StoredAsSubDirectories': False}, 'PartitionKeys': [], 'TableType': 'EXTERNAL_TABLE', 'Parameters': {'skip.header.line.count': '1', 'sizeKey': '447', 'objectCount': '1', 'UPDATED_BY_CRAWLER': 'crawler_at_sub_psy_item', 'recordCount': '3', 'CrawlerSchemaSerializerVersion': '1.0', 'averageRecordSize': '144', 'compressionType': 'none', 'CrawlerSchemaDeserializerVersion': '1.0', 'classification': 'csv', 'columnsOrdered': 'true', 'delimiter': ',', 'areColumnsQuoted': 'false', 'CRAWL_RUN_ID': 'e9104618-ae3f-4075-b84a-235fba34f497', 'typeOfData': 'file'}, 'CreatedBy': 'arn:aws:sts::932744610695:assumed-role/AWSGlueServiceRole-Schoolfriends/AWS-Crawler', 'IsRegisteredWithLakeFormation': False, 'CatalogId': '932744610695', 'VersionId': '0', 'IsMultiDialectView': False}, {'Name': 'at_user_formula_score', 'DatabaseName': 'schoolfriends', 'Owner': 'owner', 'CreateTime': datetime.datetime(2025, 9, 1, 14, 49, 42, tzinfo=tzlocal()), 'UpdateTime': datetime.datetime(2025, 9, 1, 14, 49, 42, tzinfo=tzlocal()), 'LastAccessTime': datetime.datetime(2025, 9, 1, 14, 49, 42, tzinfo=tzlocal()), 'Retention': 0, 'StorageDescriptor': {'Columns': [{'Name': 'user_testing_no', 'Type': 'string'}, {'Name': 'formula_code', 'Type': 'string'}, {'Name': 'yyyymm', 'Type': 'bigint'}, {'Name': 'result_val', 'Type': 'double'}], 'Location': 's3://schoolfriends-bym/at_user_formula_score/', 'InputFormat': 'org.apache.hadoop.mapred.TextInputFormat', 'OutputFormat': 'org.apache.hadoop.hive.ql.io.HiveIgnoreKeyTextOutputFormat', 'Compressed': False, 'NumberOfBuckets': -1, 'SerdeInfo': {'SerializationLibrary': 'org.apache.hadoop.hive.serde2.lazy.LazySimpleSerDe', 'Parameters': {'field.delim': ','}}, 'BucketColumns': [], 'SortColumns': [], 'Parameters': {'skip.header.line.count': '1', 'sizeKey': '285319', 'objectCount': '1', 'UPDATED_BY_CRAWLER': 'crawler_at_user_formula_score', 'recordCount': '6484', 'CrawlerSchemaSerializerVersion': '1.0', 'averageRecordSize': '44', 'compressionType': 'none', 'CrawlerSchemaDeserializerVersion': '1.0', 'classification': 'csv', 'columnsOrdered': 'true', 'delimiter': ',', 'areColumnsQuoted': 'false', 'CRAWL_RUN_ID': 'a7be045c-5834-4bb7-975f-6f77d7ae9ee9', 'typeOfData': 'file'}, 'StoredAsSubDirectories': False}, 'PartitionKeys': [], 'TableType': 'EXTERNAL_TABLE', 'Parameters': {'skip.header.line.count': '1', 'sizeKey': '285319', 'objectCount': '1', 'UPDATED_BY_CRAWLER': 'crawler_at_user_formula_score', 'recordCount': '6484', 'CrawlerSchemaSerializerVersion': '1.0', 'averageRecordSize': '44', 'compressionType': 'none', 'CrawlerSchemaDeserializerVersion': '1.0', 'classification': 'csv', 'columnsOrdered': 'true', 'delimiter': ',', 'areColumnsQuoted': 'false', 'CRAWL_RUN_ID': 'a7be045c-5834-4bb7-975f-6f77d7ae9ee9', 'typeOfData': 'file'}, 'CreatedBy': 'arn:aws:sts::932744610695:assumed-role/AWSGlueServiceRole-Schoolfriends/AWS-Crawler', 'IsRegisteredWithLakeFormation': False, 'CatalogId': '932744610695', 'VersionId': '0', 'IsMultiDialectView': False}, {'Name': 'at_user_scale_score', 'DatabaseName': 'schoolfriends', 'Owner': 'owner', 'CreateTime': datetime.datetime(2025, 9, 1, 14, 49, 49, tzinfo=tzlocal()), 'UpdateTime': datetime.datetime(2025, 9, 1, 14, 49, 49, tzinfo=tzlocal()), 'LastAccessTime': datetime.datetime(2025, 9, 1, 14, 49, 49, tzinfo=tzlocal()), 'Retention': 0, 'StorageDescriptor': {'Columns': [{'Name': 'user_testing_no', 'Type': 'string'}, {'Name': 'scale_code', 'Type': 'string'}, {'Name': 'yyyymm', 'Type': 'bigint'}, {'Name': 'raw_total_score', 'Type': 'bigint'}, {'Name': 'origin_total_score', 'Type': 'bigint'}, {'Name': 'subs_yn', 'Type': 'string'}], 'Location': 's3://schoolfriends-bym/at_user_scale_score/', 'InputFormat': 'org.apache.hadoop.mapred.TextInputFormat', 'OutputFormat': 'org.apache.hadoop.hive.ql.io.HiveIgnoreKeyTextOutputFormat', 'Compressed': False, 'NumberOfBuckets': -1, 'SerdeInfo': {'SerializationLibrary': 'org.apache.hadoop.hive.serde2.lazy.LazySimpleSerDe', 'Parameters': {'field.delim': ','}}, 'BucketColumns': [], 'SortColumns': [], 'Parameters': {'skip.header.line.count': '1', 'sizeKey': '288870', 'objectCount': '1', 'UPDATED_BY_CRAWLER': 'crawler_at_user_scale_score', 'recordCount': '4980', 'CrawlerSchemaSerializerVersion': '1.0', 'averageRecordSize': '58', 'compressionType': 'none', 'CrawlerSchemaDeserializerVersion': '1.0', 'classification': 'csv', 'columnsOrdered': 'true', 'delimiter': ',', 'areColumnsQuoted': 'false', 'CRAWL_RUN_ID': '58723419-7074-42d2-a634-1761f47582cf', 'typeOfData': 'file'}, 'StoredAsSubDirectories': False}, 'PartitionKeys': [], 'TableType': 'EXTERNAL_TABLE', 'Parameters': {'skip.header.line.count': '1', 'sizeKey': '288870', 'objectCount': '1', 'UPDATED_BY_CRAWLER': 'crawler_at_user_scale_score', 'recordCount': '4980', 'CrawlerSchemaSerializerVersion': '1.0', 'averageRecordSize': '58', 'compressionType': 'none', 'CrawlerSchemaDeserializerVersion': '1.0', 'classification': 'csv', 'columnsOrdered': 'true', 'delimiter': ',', 'areColumnsQuoted': 'false', 'CRAWL_RUN_ID': '58723419-7074-42d2-a634-1761f47582cf', 'typeOfData': 'file'}, 'CreatedBy': 'arn:aws:sts::932744610695:assumed-role/AWSGlueServiceRole-Schoolfriends/AWS-Crawler', 'IsRegisteredWithLakeFormation': False, 'CatalogId': '932744610695', 'VersionId': '0', 'IsMultiDialectView': False}, {'Name': 'at_user_testing_paper', 'DatabaseName': 'schoolfriends', 'Owner': 'owner', 'CreateTime': datetime.datetime(2025, 9, 1, 14, 49, 51, tzinfo=tzlocal()), 'UpdateTime': datetime.datetime(2025, 9, 1, 14, 49, 51, tzinfo=tzlocal()), 'LastAccessTime': datetime.datetime(2025, 9, 1, 14, 49, 50, tzinfo=tzlocal()), 'Retention': 0, 'StorageDescriptor': {'Columns': [{'Name': 'user_testing_no', 'Type': 'string'}, {'Name': 'paper_json', 'Type': 'struct<questionChoiceList:array<struct<questionNo:int,choiceNo:string,choiceScore:string>>>'}, {'Name': 'reg_date', 'Type': 'string'}], 'Location': 's3://schoolfriends-bym/at_user_testing_paper/', 'InputFormat': 'org.apache.hadoop.mapred.TextInputFormat', 'OutputFormat': 'org.apache.hadoop.hive.ql.io.HiveIgnoreKeyTextOutputFormat', 'Compressed': False, 'NumberOfBuckets': -1, 'SerdeInfo': {'SerializationLibrary': 'org.apache.hadoop.hive.serde2.lazy.LazySimpleSerDe', 'Parameters': {'field.delim': ','}}, 'BucketColumns': [], 'SortColumns': [], 'Parameters': {'skip.header.line.count': '1', 'sizeKey': '2441546', 'objectCount': '1', 'UPDATED_BY_CRAWLER': 'crawler_at_user_testing_paper', 'recordCount': '786', 'CrawlerSchemaSerializerVersion': '1.0', 'averageRecordSize': '3106', 'compressionType': 'none', 'CrawlerSchemaDeserializerVersion': '1.0', 'classification': 'csv', 'columnsOrdered': 'true', 'delimiter': ',', 'areColumnsQuoted': 'false', 'CRAWL_RUN_ID': 'b8d3e409-a72b-451d-b047-374d67803f95', 'typeOfData': 'file'}, 'StoredAsSubDirectories': False}, 'PartitionKeys': [], 'TableType': 'EXTERNAL_TABLE', 'Parameters': {'skip.header.line.count': '1', 'sizeKey': '2441546', 'objectCount': '1', 'UPDATED_BY_CRAWLER': 'crawler_at_user_testing_paper', 'recordCount': '786', 'CrawlerSchemaSerializerVersion': '1.0', 'averageRecordSize': '3106', 'compressionType': 'none', 'CrawlerSchemaDeserializerVersion': '1.0', 'classification': 'csv', 'columnsOrdered': 'true', 'delimiter': ',', 'areColumnsQuoted': 'false', 'CRAWL_RUN_ID': 'b8d3e409-a72b-451d-b047-374d67803f95', 'typeOfData': 'file'}, 'CreatedBy': 'arn:aws:sts::932744610695:assumed-role/AWSGlueServiceRole-Schoolfriends/AWS-Crawler', 'IsRegisteredWithLakeFormation': False, 'CatalogId': '932744610695', 'VersionId': '0', 'IsMultiDialectView': False}, {'Name': 'at_user_testing_paper_pn', 'DatabaseName': 'schoolfriends', 'Owner': 'owner', 'CreateTime': datetime.datetime(2025, 9, 1, 14, 49, 41, tzinfo=tzlocal()), 'UpdateTime': datetime.datetime(2025, 9, 1, 14, 49, 41, tzinfo=tzlocal()), 'LastAccessTime': datetime.datetime(2025, 9, 1, 14, 49, 41, tzinfo=tzlocal()), 'Retention': 0, 'StorageDescriptor': {'Columns': [{'Name': 'user_testing_no', 'Type': 'string'}, {'Name': 'question_no', 'Type': 'bigint'}, {'Name': 'student_code', 'Type': 'string'}, {'Name': 'reg_date', 'Type': 'string'}], 'Location': 's3://schoolfriends-bym/at_user_testing_paper_pn/', 'InputFormat': 'org.apache.hadoop.mapred.TextInputFormat', 'OutputFormat': 'org.apache.hadoop.hive.ql.io.HiveIgnoreKeyTextOutputFormat', 'Compressed': False, 'NumberOfBuckets': -1, 'SerdeInfo': {'SerializationLibrary': 'org.apache.hadoop.hive.serde2.lazy.LazySimpleSerDe', 'Parameters': {'field.delim': ','}}, 'BucketColumns': [], 'SortColumns': [], 'Parameters': {'skip.header.line.count': '1', 'sizeKey': '1634216', 'objectCount': '1', 'UPDATED_BY_CRAWLER': 'crawler_at_user_testing_paper_pn', 'recordCount': '25141', 'CrawlerSchemaSerializerVersion': '1.0', 'averageRecordSize': '65', 'compressionType': 'none', 'CrawlerSchemaDeserializerVersion': '1.0', 'classification': 'csv', 'columnsOrdered': 'true', 'delimiter': ',', 'areColumnsQuoted': 'false', 'CRAWL_RUN_ID': '47dc053c-8e54-4889-81b6-99552097f008', 'typeOfData': 'file'}, 'StoredAsSubDirectories': False}, 'PartitionKeys': [], 'TableType': 'EXTERNAL_TABLE', 'Parameters': {'skip.header.line.count': '1', 'sizeKey': '1634216', 'objectCount': '1', 'UPDATED_BY_CRAWLER': 'crawler_at_user_testing_paper_pn', 'recordCount': '25141', 'CrawlerSchemaSerializerVersion': '1.0', 'averageRecordSize': '65', 'compressionType': 'none', 'CrawlerSchemaDeserializerVersion': '1.0', 'classification': 'csv', 'columnsOrdered': 'true', 'delimiter': ',', 'areColumnsQuoted': 'false', 'CRAWL_RUN_ID': '47dc053c-8e54-4889-81b6-99552097f008', 'typeOfData': 'file'}, 'CreatedBy': 'arn:aws:sts::932744610695:assumed-role/AWSGlueServiceRole-Schoolfriends/AWS-Crawler', 'IsRegisteredWithLakeFormation': False, 'CatalogId': '932744610695', 'VersionId': '0', 'IsMultiDialectView': False}, {'Name': 'at_user_testing_paper_sct', 'DatabaseName': 'schoolfriends', 'Owner': 'owner', 'CreateTime': datetime.datetime(2025, 9, 1, 14, 49, 45, tzinfo=tzlocal()), 'UpdateTime': datetime.datetime(2025, 9, 1, 14, 49, 45, tzinfo=tzlocal()), 'LastAccessTime': datetime.datetime(2025, 9, 1, 14, 49, 45, tzinfo=tzlocal()), 'Retention': 0, 'StorageDescriptor': {'Columns': [{'Name': 'user_testing_no', 'Type': 'string'}, {'Name': 'question_no', 'Type': 'bigint'}, {'Name': 'input_data', 'Type': 'string'}, {'Name': 'reg_date', 'Type': 'string'}], 'Location': 's3://schoolfriends-bym/at_user_testing_paper_sct/', 'InputFormat': 'org.apache.hadoop.mapred.TextInputFormat', 'OutputFormat': 'org.apache.hadoop.hive.ql.io.HiveIgnoreKeyTextOutputFormat', 'Compressed': False, 'NumberOfBuckets': -1, 'SerdeInfo': {'SerializationLibrary': 'org.apache.hadoop.hive.serde2.lazy.LazySimpleSerDe', 'Parameters': {'field.delim': ','}}, 'BucketColumns': [], 'SortColumns': [], 'Parameters': {'skip.header.line.count': '1', 'sizeKey': '226374', 'objectCount': '1', 'UPDATED_BY_CRAWLER': 'crawler_at_user_testing_paper_sct', 'recordCount': '4192', 'CrawlerSchemaSerializerVersion': '1.0', 'averageRecordSize': '54', 'compressionType': 'none', 'CrawlerSchemaDeserializerVersion': '1.0', 'classification': 'csv', 'columnsOrdered': 'true', 'delimiter': ',', 'areColumnsQuoted': 'false', 'CRAWL_RUN_ID': 'bb67ccc7-6568-4604-b522-9046bf4e6b83', 'typeOfData': 'file'}, 'StoredAsSubDirectories': False}, 'PartitionKeys': [], 'TableType': 'EXTERNAL_TABLE', 'Parameters': {'skip.header.line.count': '1', 'sizeKey': '226374', 'objectCount': '1', 'UPDATED_BY_CRAWLER': 'crawler_at_user_testing_paper_sct', 'recordCount': '4192', 'CrawlerSchemaSerializerVersion': '1.0', 'averageRecordSize': '54', 'compressionType': 'none', 'CrawlerSchemaDeserializerVersion': '1.0', 'classification': 'csv', 'columnsOrdered': 'true', 'delimiter': ',', 'areColumnsQuoted': 'false', 'CRAWL_RUN_ID': 'bb67ccc7-6568-4604-b522-9046bf4e6b83', 'typeOfData': 'file'}, 'CreatedBy': 'arn:aws:sts::932744610695:assumed-role/AWSGlueServiceRole-Schoolfriends/AWS-Crawler', 'IsRegisteredWithLakeFormation': False, 'CatalogId': '932744610695', 'VersionId': '0', 'IsMultiDialectView': False}, {'Name': 'at_user_testing_paper_tr', 'DatabaseName': 'schoolfriends', 'Owner': 'owner', 'CreateTime': datetime.datetime(2025, 9, 1, 14, 49, 47, tzinfo=tzlocal()), 'UpdateTime': datetime.datetime(2025, 9, 1, 14, 49, 47, tzinfo=tzlocal()), 'LastAccessTime': datetime.datetime(2025, 9, 1, 14, 49, 46, tzinfo=tzlocal()), 'Retention': 0, 'StorageDescriptor': {'Columns': [{'Name': 'user_testing_no', 'Type': 'string'}, {'Name': 'question_no', 'Type': 'bigint'}, {'Name': 'student_code', 'Type': 'string'}, {'Name': 'select_data', 'Type': 'bigint'}, {'Name': 'reg_date', 'Type': 'string'}], 'Location': 's3://schoolfriends-bym/at_user_testing_paper_tr/', 'InputFormat': 'org.apache.hadoop.mapred.TextInputFormat', 'OutputFormat': 'org.apache.hadoop.hive.ql.io.HiveIgnoreKeyTextOutputFormat', 'Compressed': False, 'NumberOfBuckets': -1, 'SerdeInfo': {'SerializationLibrary': 'org.apache.hadoop.hive.serde2.lazy.LazySimpleSerDe', 'Parameters': {'field.delim': ','}}, 'BucketColumns': [], 'SortColumns': [], 'Parameters': {'skip.header.line.count': '1', 'sizeKey': '758998', 'objectCount': '1', 'UPDATED_BY_CRAWLER': 'crawler_at_user_testing_paper_tr', 'recordCount': '10690', 'CrawlerSchemaSerializerVersion': '1.0', 'averageRecordSize': '71', 'compressionType': 'none', 'CrawlerSchemaDeserializerVersion': '1.0', 'classification': 'csv', 'columnsOrdered': 'true', 'delimiter': ',', 'areColumnsQuoted': 'false', 'CRAWL_RUN_ID': '9414b9de-71be-4651-afe6-fa791bd9e89b', 'typeOfData': 'file'}, 'StoredAsSubDirectories': False}, 'PartitionKeys': [], 'TableType': 'EXTERNAL_TABLE', 'Parameters': {'skip.header.line.count': '1', 'sizeKey': '758998', 'objectCount': '1', 'UPDATED_BY_CRAWLER': 'crawler_at_user_testing_paper_tr', 'recordCount': '10690', 'CrawlerSchemaSerializerVersion': '1.0', 'averageRecordSize': '71', 'compressionType': 'none', 'CrawlerSchemaDeserializerVersion': '1.0', 'classification': 'csv', 'columnsOrdered': 'true', 'delimiter': ',', 'areColumnsQuoted': 'false', 'CRAWL_RUN_ID': '9414b9de-71be-4651-afe6-fa791bd9e89b', 'typeOfData': 'file'}, 'CreatedBy': 'arn:aws:sts::932744610695:assumed-role/AWSGlueServiceRole-Schoolfriends/AWS-Crawler', 'IsRegisteredWithLakeFormation': False, 'CatalogId': '932744610695', 'VersionId': '0', 'IsMultiDialectView': False}, {'Name': 'member', 'DatabaseName': 'schoolfriends', 'Owner': 'owner', 'CreateTime': datetime.datetime(2025, 9, 3, 15, 37, 29, tzinfo=tzlocal()), 'UpdateTime': datetime.datetime(2025, 9, 3, 15, 37, 29, tzinfo=tzlocal()), 'LastAccessTime': datetime.datetime(2025, 9, 3, 15, 37, 29, tzinfo=tzlocal()), 'Retention': 0, 'StorageDescriptor': {'Columns': [{'Name': 'member_no', 'Type': 'string'}, {'Name': 'email', 'Type': 'string'}, {'Name': 'password', 'Type': 'string'}, {'Name': 'name', 'Type': 'string'}, {'Name': 'cellphone_num', 'Type': 'string'}, {'Name': 'role', 'Type': 'string'}, {'Name': 'member_type_cd', 'Type': 'bigint'}, {'Name': 'master_upd', 'Type': 'string'}, {'Name': 'school_type_cd', 'Type': 'string'}, {'Name': 'school_code', 'Type': 'string'}, {'Name': 'school_name', 'Type': 'string'}, {'Name': 'school_sido', 'Type': 'string'}, {'Name': 'auth_num', 'Type': 'string'}, {'Name': 'billing_email', 'Type': 'string'}, {'Name': 'del_yn', 'Type': 'string'}, {'Name': 'del_date', 'Type': 'string'}, {'Name': 'reg_date', 'Type': 'string'}, {'Name': 'mod_date', 'Type': 'string'}], 'Location': 's3://schoolfriends-bym/member/', 'InputFormat': 'org.apache.hadoop.mapred.TextInputFormat', 'OutputFormat': 'org.apache.hadoop.hive.ql.io.HiveIgnoreKeyTextOutputFormat', 'Compressed': False, 'NumberOfBuckets': -1, 'SerdeInfo': {'SerializationLibrary': 'org.apache.hadoop.hive.serde2.lazy.LazySimpleSerDe', 'Parameters': {'field.delim': ','}}, 'BucketColumns': [], 'SortColumns': [], 'Parameters': {'skip.header.line.count': '1', 'sizeKey': '50213', 'objectCount': '1', 'UPDATED_BY_CRAWLER': 'crawler_member', 'recordCount': '194', 'CrawlerSchemaSerializerVersion': '1.0', 'averageRecordSize': '258', 'compressionType': 'none', 'CrawlerSchemaDeserializerVersion': '1.0', 'classification': 'csv', 'columnsOrdered': 'true', 'delimiter': ',', 'areColumnsQuoted': 'false', 'CRAWL_RUN_ID': '6132d62d-9899-432e-8c0a-f65f9f25274e', 'typeOfData': 'file'}, 'StoredAsSubDirectories': False}, 'PartitionKeys': [], 'TableType': 'EXTERNAL_TABLE', 'Parameters': {'skip.header.line.count': '1', 'sizeKey': '50213', 'objectCount': '1', 'UPDATED_BY_CRAWLER': 'crawler_member', 'recordCount': '194', 'CrawlerSchemaSerializerVersion': '1.0', 'averageRecordSize': '258', 'compressionType': 'none', 'CrawlerSchemaDeserializerVersion': '1.0', 'classification': 'csv', 'columnsOrdered': 'true', 'delimiter': ',', 'areColumnsQuoted': 'false', 'CRAWL_RUN_ID': '6132d62d-9899-432e-8c0a-f65f9f25274e', 'typeOfData': 'file'}, 'CreatedBy': 'arn:aws:sts::932744610695:assumed-role/AWSGlueServiceRole-Schoolfriends/AWS-Crawler', 'IsRegisteredWithLakeFormation': False, 'CatalogId': '932744610695', 'VersionId': '0', 'IsMultiDialectView': False}, {'Name': 'psy_class', 'DatabaseName': 'schoolfriends', 'Owner': 'owner', 'CreateTime': datetime.datetime(2025, 9, 3, 14, 34, 44, tzinfo=tzlocal()), 'UpdateTime': datetime.datetime(2025, 9, 3, 14, 34, 44, tzinfo=tzlocal()), 'LastAccessTime': datetime.datetime(2025, 9, 3, 14, 34, 44, tzinfo=tzlocal()), 'Retention': 0, 'StorageDescriptor': {'Columns': [{'Name': 'psy_code', 'Type': 'string'}, {'Name': 'class_code', 'Type': 'string'}, {'Name': 'psy_ord_target', 'Type': 'string'}, {'Name': 'psy_ord_no', 'Type': 'string'}, {'Name': 'psy_name', 'Type': 'string'}, {'Name': 'psy_url', 'Type': 'string'}, {'Name': 'start_date', 'Type': 'bigint'}, {'Name': 'end_date', 'Type': 'bigint'}, {'Name': 'original_end_date', 'Type': 'bigint'}, {'Name': 'longitudinal_yn', 'Type': 'string'}, {'Name': 'close_yn', 'Type': 'string'}, {'Name': 'use_yn', 'Type': 'string'}, {'Name': 'use_cnt', 'Type': 'bigint'}, {'Name': 'use_date', 'Type': 'string'}, {'Name': 'memo', 'Type': 'string'}, {'Name': 'reg_member_no', 'Type': 'string'}, {'Name': 'reg_date', 'Type': 'string'}, {'Name': 'mod_member_no', 'Type': 'string'}, {'Name': 'mod_date', 'Type': 'string'}], 'Location': 's3://schoolfriends-bym/psy_class/', 'InputFormat': 'org.apache.hadoop.mapred.TextInputFormat', 'OutputFormat': 'org.apache.hadoop.hive.ql.io.HiveIgnoreKeyTextOutputFormat', 'Compressed': False, 'NumberOfBuckets': -1, 'SerdeInfo': {'SerializationLibrary': 'org.apache.hadoop.hive.serde2.lazy.LazySimpleSerDe', 'Parameters': {'field.delim': ','}}, 'BucketColumns': [], 'SortColumns': [], 'Parameters': {'skip.header.line.count': '1', 'sizeKey': '32460', 'objectCount': '1', 'UPDATED_BY_CRAWLER': 'crawler_psy_class', 'recordCount': '166', 'CrawlerSchemaSerializerVersion': '1.0', 'averageRecordSize': '195', 'compressionType': 'none', 'CrawlerSchemaDeserializerVersion': '1.0', 'classification': 'csv', 'columnsOrdered': 'true', 'delimiter': ',', 'areColumnsQuoted': 'false', 'CRAWL_RUN_ID': '29a63eeb-9659-404c-bd93-4848e925b56b', 'typeOfData': 'file'}, 'StoredAsSubDirectories': False}, 'PartitionKeys': [], 'TableType': 'EXTERNAL_TABLE', 'Parameters': {'skip.header.line.count': '1', 'sizeKey': '32460', 'objectCount': '1', 'UPDATED_BY_CRAWLER': 'crawler_psy_class', 'recordCount': '166', 'CrawlerSchemaSerializerVersion': '1.0', 'averageRecordSize': '195', 'compressionType': 'none', 'CrawlerSchemaDeserializerVersion': '1.0', 'classification': 'csv', 'columnsOrdered': 'true', 'delimiter': ',', 'areColumnsQuoted': 'false', 'CRAWL_RUN_ID': '29a63eeb-9659-404c-bd93-4848e925b56b', 'typeOfData': 'file'}, 'CreatedBy': 'arn:aws:sts::932744610695:assumed-role/AWSGlueServiceRole-Schoolfriends/AWS-Crawler', 'IsRegisteredWithLakeFormation': False, 'CatalogId': '932744610695', 'VersionId': '0', 'IsMultiDialectView': False}, {'Name': 'psy_estimate', 'DatabaseName': 'schoolfriends', 'Owner': 'owner', 'CreateTime': datetime.datetime(2025, 9, 3, 14, 34, 49, tzinfo=tzlocal()), 'UpdateTime': datetime.datetime(2025, 9, 3, 14, 34, 49, tzinfo=tzlocal()), 'LastAccessTime': datetime.datetime(2025, 9, 3, 14, 34, 49, tzinfo=tzlocal()), 'Retention': 0, 'StorageDescriptor': {'Columns': [{'Name': 'psy_estimate_no', 'Type': 'string'}, {'Name': 'psy_estimate_detail_no', 'Type': 'bigint'}, {'Name': 'estimate_ymd', 'Type': 'bigint'}, {'Name': 'member_no', 'Type': 'string'}, {'Name': 'psy_item_id', 'Type': 'string'}, {'Name': 'psy_ord_type_cd', 'Type': 'bigint'}, {'Name': 'yyyy', 'Type': 'bigint'}, {'Name': 'grade', 'Type': 'bigint'}, {'Name': 'ord_cnt', 'Type': 'bigint'}, {'Name': 'price', 'Type': 'bigint'}, {'Name': 'payment_amt', 'Type': 'bigint'}, {'Name': 'reg_date', 'Type': 'string'}], 'Location': 's3://schoolfriends-bym/psy_estimate/', 'InputFormat': 'org.apache.hadoop.mapred.TextInputFormat', 'OutputFormat': 'org.apache.hadoop.hive.ql.io.HiveIgnoreKeyTextOutputFormat', 'Compressed': False, 'NumberOfBuckets': -1, 'SerdeInfo': {'SerializationLibrary': 'org.apache.hadoop.hive.serde2.lazy.LazySimpleSerDe', 'Parameters': {'field.delim': ','}}, 'BucketColumns': [], 'SortColumns': [], 'Parameters': {'skip.header.line.count': '1', 'sizeKey': '12712', 'objectCount': '1', 'UPDATED_BY_CRAWLER': 'crawler_psy_estimate', 'recordCount': '101', 'CrawlerSchemaSerializerVersion': '1.0', 'averageRecordSize': '125', 'compressionType': 'none', 'CrawlerSchemaDeserializerVersion': '1.0', 'classification': 'csv', 'columnsOrdered': 'true', 'delimiter': ',', 'areColumnsQuoted': 'false', 'CRAWL_RUN_ID': '3ddedd4c-9210-42e8-ad83-b4bea14bc3bd', 'typeOfData': 'file'}, 'StoredAsSubDirectories': False}, 'PartitionKeys': [], 'TableType': 'EXTERNAL_TABLE', 'Parameters': {'skip.header.line.count': '1', 'sizeKey': '12712', 'objectCount': '1', 'UPDATED_BY_CRAWLER': 'crawler_psy_estimate', 'recordCount': '101', 'CrawlerSchemaSerializerVersion': '1.0', 'averageRecordSize': '125', 'compressionType': 'none', 'CrawlerSchemaDeserializerVersion': '1.0', 'classification': 'csv', 'columnsOrdered': 'true', 'delimiter': ',', 'areColumnsQuoted': 'false', 'CRAWL_RUN_ID': '3ddedd4c-9210-42e8-ad83-b4bea14bc3bd', 'typeOfData': 'file'}, 'CreatedBy': 'arn:aws:sts::932744610695:assumed-role/AWSGlueServiceRole-Schoolfriends/AWS-Crawler', 'IsRegisteredWithLakeFormation': False, 'CatalogId': '932744610695', 'VersionId': '0', 'IsMultiDialectView': False}, {'Name': 'psy_ord', 'DatabaseName': 'schoolfriends', 'Owner': 'owner', 'CreateTime': datetime.datetime(2025, 9, 3, 14, 47, 9, tzinfo=tzlocal()), 'UpdateTime': datetime.datetime(2025, 9, 3, 14, 47, 9, tzinfo=tzlocal()), 'LastAccessTime': datetime.datetime(2025, 9, 3, 14, 47, 8, tzinfo=tzlocal()), 'Retention': 0, 'StorageDescriptor': {'Columns': [{'Name': 'psy_ord_no', 'Type': 'string'}, {'Name': 'psy_ord_target', 'Type': 'string'}, {'Name': 'psy_ord_type_cd', 'Type': 'bigint'}, {'Name': 'psy_item_id', 'Type': 'string'}, {'Name': 'ord_date', 'Type': 'bigint'}, {'Name': 'start_date', 'Type': 'bigint'}, {'Name': 'end_date', 'Type': 'bigint'}, {'Name': 'ord_cnt', 'Type': 'bigint'}, {'Name': 'remain_cnt', 'Type': 'bigint'}, {'Name': 'use_cnt', 'Type': 'string'}, {'Name': 'grade1_ord_cnt', 'Type': 'bigint'}, {'Name': 'grade2_ord_cnt', 'Type': 'bigint'}, {'Name': 'grade3_ord_cnt', 'Type': 'bigint'}, {'Name': 'grade4_ord_cnt', 'Type': 'bigint'}, {'Name': 'grade5_ord_cnt', 'Type': 'bigint'}, {'Name': 'grade6_ord_cnt', 'Type': 'bigint'}, {'Name': 'price', 'Type': 'bigint'}, {'Name': 'payment_amt', 'Type': 'bigint'}, {'Name': 'ord_status_cd', 'Type': 'bigint'}, {'Name': 'main_payment_method_cd', 'Type': 'string'}, {'Name': 'reg_member_no', 'Type': 'string'}, {'Name': 'reg_date', 'Type': 'string'}, {'Name': 'mod_member_no', 'Type': 'string'}, {'Name': 'mod_date', 'Type': 'string'}, {'Name': 'cancel_member_no', 'Type': 'string'}, {'Name': 'cancel_date', 'Type': 'string'}], 'Location': 's3://schoolfriends-bym/psy_ord/', 'InputFormat': 'org.apache.hadoop.mapred.TextInputFormat', 'OutputFormat': 'org.apache.hadoop.hive.ql.io.HiveIgnoreKeyTextOutputFormat', 'Compressed': False, 'NumberOfBuckets': -1, 'SerdeInfo': {'SerializationLibrary': 'org.apache.hadoop.hive.serde2.lazy.LazySimpleSerDe', 'Parameters': {'field.delim': ','}}, 'BucketColumns': [], 'SortColumns': [], 'Parameters': {'skip.header.line.count': '1', 'sizeKey': '34697', 'objectCount': '1', 'UPDATED_BY_CRAWLER': 'crawler_psy_ord', 'recordCount': '146', 'CrawlerSchemaSerializerVersion': '1.0', 'averageRecordSize': '237', 'compressionType': 'none', 'CrawlerSchemaDeserializerVersion': '1.0', 'classification': 'csv', 'columnsOrdered': 'true', 'delimiter': ',', 'areColumnsQuoted': 'false', 'CRAWL_RUN_ID': '820fc1ee-3f5b-46ab-bb3c-37ac6c4ba8f7', 'typeOfData': 'file'}, 'StoredAsSubDirectories': False}, 'PartitionKeys': [], 'TableType': 'EXTERNAL_TABLE', 'Parameters': {'skip.header.line.count': '1', 'sizeKey': '34697', 'objectCount': '1', 'UPDATED_BY_CRAWLER': 'crawler_psy_ord', 'recordCount': '146', 'CrawlerSchemaSerializerVersion': '1.0', 'averageRecordSize': '237', 'compressionType': 'none', 'CrawlerSchemaDeserializerVersion': '1.0', 'classification': 'csv', 'columnsOrdered': 'true', 'delimiter': ',', 'areColumnsQuoted': 'false', 'CRAWL_RUN_ID': '820fc1ee-3f5b-46ab-bb3c-37ac6c4ba8f7', 'typeOfData': 'file'}, 'CreatedBy': 'arn:aws:sts::932744610695:assumed-role/AWSGlueServiceRole-Schoolfriends/AWS-Crawler', 'IsRegisteredWithLakeFormation': False, 'CatalogId': '932744610695', 'VersionId': '0', 'IsMultiDialectView': False}, {'Name': 'psy_ord_class', 'DatabaseName': 'schoolfriends', 'Owner': 'owner', 'CreateTime': datetime.datetime(2025, 9, 3, 14, 46, 55, tzinfo=tzlocal()), 'UpdateTime': datetime.datetime(2025, 9, 3, 14, 46, 55, tzinfo=tzlocal()), 'LastAccessTime': datetime.datetime(2025, 9, 3, 14, 46, 55, tzinfo=tzlocal()), 'Retention': 0, 'StorageDescriptor': {'Columns': [{'Name': 'col0', 'Type': 'string'}, {'Name': 'col1', 'Type': 'string'}, {'Name': 'col2', 'Type': 'string'}, {'Name': 'col3', 'Type': 'string'}, {'Name': 'col4', 'Type': 'string'}], 'Location': 's3://schoolfriends-bym/psy_ord_class/', 'InputFormat': 'org.apache.hadoop.mapred.TextInputFormat', 'OutputFormat': 'org.apache.hadoop.hive.ql.io.HiveIgnoreKeyTextOutputFormat', 'Compressed': False, 'NumberOfBuckets': -1, 'SerdeInfo': {'SerializationLibrary': 'org.apache.hadoop.hive.serde2.lazy.LazySimpleSerDe', 'Parameters': {'field.delim': ','}}, 'BucketColumns': [], 'SortColumns': [], 'Parameters': {'sizeKey': '17404', 'objectCount': '1', 'UPDATED_BY_CRAWLER': 'crawler_psy_ord_class', 'recordCount': '248', 'CrawlerSchemaSerializerVersion': '1.0', 'averageRecordSize': '70', 'compressionType': 'none', 'CrawlerSchemaDeserializerVersion': '1.0', 'classification': 'csv', 'columnsOrdered': 'true', 'delimiter': ',', 'areColumnsQuoted': 'false', 'CRAWL_RUN_ID': '5f622fc4-9ce7-4ad0-9a9e-55f1265e7d3b', 'typeOfData': 'file'}, 'StoredAsSubDirectories': False}, 'PartitionKeys': [], 'TableType': 'EXTERNAL_TABLE', 'Parameters': {'sizeKey': '17404', 'objectCount': '1', 'UPDATED_BY_CRAWLER': 'crawler_psy_ord_class', 'recordCount': '248', 'CrawlerSchemaSerializerVersion': '1.0', 'averageRecordSize': '70', 'compressionType': 'none', 'CrawlerSchemaDeserializerVersion': '1.0', 'classification': 'csv', 'columnsOrdered': 'true', 'delimiter': ',', 'areColumnsQuoted': 'false', 'CRAWL_RUN_ID': '5f622fc4-9ce7-4ad0-9a9e-55f1265e7d3b', 'typeOfData': 'file'}, 'CreatedBy': 'arn:aws:sts::932744610695:assumed-role/AWSGlueServiceRole-Schoolfriends/AWS-Crawler', 'IsRegisteredWithLakeFormation': False, 'CatalogId': '932744610695', 'VersionId': '0', 'IsMultiDialectView': False}, {'Name': 'psy_target', 'DatabaseName': 'schoolfriends', 'Owner': 'owner', 'CreateTime': datetime.datetime(2025, 9, 3, 14, 34, 46, tzinfo=tzlocal()), 'UpdateTime': datetime.datetime(2025, 9, 3, 14, 34, 46, tzinfo=tzlocal()), 'LastAccessTime': datetime.datetime(2025, 9, 3, 14, 34, 46, tzinfo=tzlocal()), 'Retention': 0, 'StorageDescriptor': {'Columns': [{'Name': 'psy_code', 'Type': 'string'}, {'Name': 'class_code', 'Type': 'string'}, {'Name': 'target_code', 'Type': 'string'}, {'Name': 'psy_target', 'Type': 'string'}, {'Name': 'at_status_cd', 'Type': 'bigint'}, {'Name': 'pn_check', 'Type': 'string'}, {'Name': 'sr_check', 'Type': 'string'}, {'Name': 'sct_check', 'Type': 'string'}, {'Name': 'tr_check', 'Type': 'string'}, {'Name': 'user_testing_no', 'Type': 'string'}, {'Name': 'reg_member_no', 'Type': 'string'}, {'Name': 'reg_date', 'Type': 'string'}, {'Name': 'mod_member_no', 'Type': 'string'}, {'Name': 'mod_date', 'Type': 'string'}], 'Location': 's3://schoolfriends-bym/psy_target/', 'InputFormat': 'org.apache.hadoop.mapred.TextInputFormat', 'OutputFormat': 'org.apache.hadoop.hive.ql.io.HiveIgnoreKeyTextOutputFormat', 'Compressed': False, 'NumberOfBuckets': -1, 'SerdeInfo': {'SerializationLibrary': 'org.apache.hadoop.hive.serde2.lazy.LazySimpleSerDe', 'Parameters': {'field.delim': ','}}, 'BucketColumns': [], 'SortColumns': [], 'Parameters': {'skip.header.line.count': '1', 'sizeKey': '250558', 'objectCount': '1', 'UPDATED_BY_CRAWLER': 'crawler_psy_target', 'recordCount': '1692', 'CrawlerSchemaSerializerVersion': '1.0', 'averageRecordSize': '148', 'compressionType': 'none', 'CrawlerSchemaDeserializerVersion': '1.0', 'classification': 'csv', 'columnsOrdered': 'true', 'delimiter': ',', 'areColumnsQuoted': 'false', 'CRAWL_RUN_ID': '00a8a078-ba93-4d6e-bb20-9fa061b592b3', 'typeOfData': 'file'}, 'StoredAsSubDirectories': False}, 'PartitionKeys': [], 'TableType': 'EXTERNAL_TABLE', 'Parameters': {'skip.header.line.count': '1', 'sizeKey': '250558', 'objectCount': '1', 'UPDATED_BY_CRAWLER': 'crawler_psy_target', 'recordCount': '1692', 'CrawlerSchemaSerializerVersion': '1.0', 'averageRecordSize': '148', 'compressionType': 'none', 'CrawlerSchemaDeserializerVersion': '1.0', 'classification': 'csv', 'columnsOrdered': 'true', 'delimiter': ',', 'areColumnsQuoted': 'false', 'CRAWL_RUN_ID': '00a8a078-ba93-4d6e-bb20-9fa061b592b3', 'typeOfData': 'file'}, 'CreatedBy': 'arn:aws:sts::932744610695:assumed-role/AWSGlueServiceRole-Schoolfriends/AWS-Crawler', 'IsRegisteredWithLakeFormation': False, 'CatalogId': '932744610695', 'VersionId': '0', 'IsMultiDialectView': False}, {'Name': 'school_class', 'DatabaseName': 'schoolfriends', 'Owner': 'hadoop', 'CreateTime': datetime.datetime(2025, 8, 29, 16, 36, 40, tzinfo=tzlocal()), 'UpdateTime': datetime.datetime(2025, 8, 29, 16, 36, 40, tzinfo=tzlocal()), 'LastAccessTime': datetime.datetime(1970, 1, 1, 9, 0, tzinfo=tzlocal()), 'Retention': 0, 'StorageDescriptor': {'Columns': [{'Name': 'class_code', 'Type': 'string'}, {'Name': 'school_code', 'Type': 'string'}, {'Name': 'member_no', 'Type': 'string'}, {'Name': 'member_name', 'Type': 'string'}, {'Name': 'member_cellphone_num', 'Type': 'string'}, {'Name': 'class_name', 'Type': 'string'}, {'Name': 'school_date', 'Type': 'string'}, {'Name': 'school_grade', 'Type': 'string'}, {'Name': 'school_num', 'Type': 'string'}, {'Name': 'use_yn', 'Type': 'string'}, {'Name': 'memo', 'Type': 'string'}, {'Name': 'reg_member_no', 'Type': 'string'}, {'Name': 'reg_date', 'Type': 'string'}, {'Name': 'mod_member_no', 'Type': 'string'}, {'Name': 'mod_date', 'Type': 'string'}], 'Location': 's3://schoolfriends-bym/school_class', 'InputFormat': 'org.apache.hadoop.mapred.TextInputFormat', 'OutputFormat': 'org.apache.hadoop.hive.ql.io.HiveIgnoreKeyTextOutputFormat', 'Compressed': False, 'NumberOfBuckets': -1, 'SerdeInfo': {'SerializationLibrary': 'org.apache.hadoop.hive.serde2.lazy.LazySimpleSerDe', 'Parameters': {'serialization.format': ',', 'line.delim': '\\n', 'field.delim': ','}}, 'BucketColumns': [], 'SortColumns': [], 'Parameters': {}, 'SkewedInfo': {'SkewedColumnNames': [], 'SkewedColumnValues': [], 'SkewedColumnValueLocationMaps': {}}, 'StoredAsSubDirectories': False}, 'PartitionKeys': [], 'TableType': 'EXTERNAL_TABLE', 'Parameters': {'skip.header.line.count': '1', 'transient_lastDdlTime': '1756452999', 'EXTERNAL': 'TRUE'}, 'CreatedBy': 'arn:aws:iam::932744610695:user/admin-cli-user', 'IsRegisteredWithLakeFormation': False, 'CatalogId': '932744610695', 'VersionId': '0', 'IsMultiDialectView': False}, {'Name': 'school_info', 'DatabaseName': 'schoolfriends', 'Owner': 'owner', 'CreateTime': datetime.datetime(2025, 9, 3, 16, 53, 40, tzinfo=tzlocal()), 'UpdateTime': datetime.datetime(2025, 9, 3, 16, 53, 40, tzinfo=tzlocal()), 'LastAccessTime': datetime.datetime(2025, 9, 3, 16, 53, 40, tzinfo=tzlocal()), 'Retention': 0, 'StorageDescriptor': {'Columns': [{'Name': 'school_code', 'Type': 'string'}, {'Name': 'school_type_cd', 'Type': 'string'}, {'Name': 'school_name', 'Type': 'string'}, {'Name': 'school_sido', 'Type': 'string'}, {'Name': 'school_telephone', 'Type': 'bigint'}, {'Name': 'school_task', 'Type': 'string'}], 'Location': 's3://schoolfriends-bym/school_info/', 'InputFormat': 'org.apache.hadoop.mapred.TextInputFormat', 'OutputFormat': 'org.apache.hadoop.hive.ql.io.HiveIgnoreKeyTextOutputFormat', 'Compressed': False, 'NumberOfBuckets': -1, 'SerdeInfo': {'SerializationLibrary': 'org.apache.hadoop.hive.serde2.lazy.LazySimpleSerDe', 'Parameters': {'field.delim': ','}}, 'BucketColumns': [], 'SortColumns': [], 'Parameters': {'skip.header.line.count': '1', 'sizeKey': '5640', 'objectCount': '1', 'UPDATED_BY_CRAWLER': 'crawler_school_info', 'recordCount': '104', 'CrawlerSchemaSerializerVersion': '1.0', 'averageRecordSize': '54', 'compressionType': 'none', 'CrawlerSchemaDeserializerVersion': '1.0', 'classification': 'csv', 'columnsOrdered': 'true', 'delimiter': ',', 'areColumnsQuoted': 'false', 'CRAWL_RUN_ID': '4cf8c4fe-7548-4901-b2d3-6fb99afaaf0e', 'typeOfData': 'file'}, 'StoredAsSubDirectories': False}, 'PartitionKeys': [], 'TableType': 'EXTERNAL_TABLE', 'Parameters': {'skip.header.line.count': '1', 'sizeKey': '5640', 'objectCount': '1', 'UPDATED_BY_CRAWLER': 'crawler_school_info', 'recordCount': '104', 'CrawlerSchemaSerializerVersion': '1.0', 'averageRecordSize': '54', 'compressionType': 'none', 'CrawlerSchemaDeserializerVersion': '1.0', 'classification': 'csv', 'columnsOrdered': 'true', 'delimiter': ',', 'areColumnsQuoted': 'false', 'CRAWL_RUN_ID': '4cf8c4fe-7548-4901-b2d3-6fb99afaaf0e', 'typeOfData': 'file'}, 'CreatedBy': 'arn:aws:sts::932744610695:assumed-role/AWSGlueServiceRole-Schoolfriends/AWS-Crawler', 'IsRegisteredWithLakeFormation': False, 'CatalogId': '932744610695', 'VersionId': '0', 'IsMultiDialectView': False}, {'Name': 'school_student', 'DatabaseName': 'schoolfriends', 'Owner': 'owner', 'CreateTime': datetime.datetime(2025, 9, 3, 16, 53, 59, tzinfo=tzlocal()), 'UpdateTime': datetime.datetime(2025, 9, 3, 17, 14, 43, tzinfo=tzlocal()), 'Retention': 0, 'StorageDescriptor': {'Columns': [{'Name': 'class_code', 'Type': 'string'}, {'Name': 'student_code', 'Type': 'string'}, {'Name': 'student_name', 'Type': 'string'}, {'Name': 'student_sex', 'Type': 'bigint'}, {'Name': 'student_birth', 'Type': 'string'}, {'Name': 'student_num', 'Type': 'string'}, {'Name': 'student_cellphone_num', 'Type': 'string'}, {'Name': 'student_email', 'Type': 'string'}, {'Name': 'use_yn', 'Type': 'string'}, {'Name': 'memo', 'Type': 'string'}, {'Name': 'reg_member_no', 'Type': 'string'}, {'Name': 'reg_date', 'Type': 'string'}, {'Name': 'mod_member_no', 'Type': 'string'}, {'Name': 'mod_date', 'Type': 'string'}], 'Location': 's3://schoolfriends-bym/school_student/', 'InputFormat': 'org.apache.hadoop.mapred.TextInputFormat', 'OutputFormat': 'org.apache.hadoop.hive.ql.io.HiveIgnoreKeyTextOutputFormat', 'Compressed': False, 'NumberOfBuckets': -1, 'SerdeInfo': {'SerializationLibrary': 'org.apache.hadoop.hive.serde2.lazy.LazySimpleSerDe', 'Parameters': {'field.delim': ','}}, 'BucketColumns': [], 'SortColumns': [], 'Parameters': {'skip.header.line.count': '1', 'sizeKey': '136782', 'objectCount': '1', 'UPDATED_BY_CRAWLER': 'crawler_school_student', 'recordCount': '697', 'CrawlerSchemaSerializerVersion': '1.0', 'averageRecordSize': '196', 'compressionType': 'none', 'CrawlerSchemaDeserializerVersion': '1.0', 'classification': 'csv', 'columnsOrdered': 'true', 'delimiter': ',', 'areColumnsQuoted': 'false', 'CRAWL_RUN_ID': 'ce8a531f-0bdf-4d93-a84d-6df372ed4c9b', 'typeOfData': 'file'}, 'StoredAsSubDirectories': False}, 'PartitionKeys': [], 'TableType': 'EXTERNAL_TABLE', 'Parameters': {'skip.header.line.count': '1', 'sizeKey': '136782', 'objectCount': '1', 'UPDATED_BY_CRAWLER': 'crawler_school_student', 'recordCount': '697', 'CrawlerSchemaSerializerVersion': '1.0', 'averageRecordSize': '196', 'compressionType': 'none', 'CrawlerSchemaDeserializerVersion': '1.0', 'classification': 'csv', 'columnsOrdered': 'true', 'delimiter': ',', 'areColumnsQuoted': 'false', 'CRAWL_RUN_ID': 'ce8a531f-0bdf-4d93-a84d-6df372ed4c9b', 'typeOfData': 'file'}, 'CreatedBy': 'arn:aws:sts::932744610695:assumed-role/AWSGlueServiceRole-Schoolfriends/AWS-Crawler', 'IsRegisteredWithLakeFormation': False, 'CatalogId': '932744610695', 'VersionId': '1', 'IsMultiDialectView': False}, {'Name': 'school_teacher', 'DatabaseName': 'schoolfriends', 'Owner': 'owner', 'CreateTime': datetime.datetime(2025, 9, 3, 16, 53, 40, tzinfo=tzlocal()), 'UpdateTime': datetime.datetime(2025, 9, 3, 16, 53, 40, tzinfo=tzlocal()), 'LastAccessTime': datetime.datetime(2025, 9, 3, 16, 53, 39, tzinfo=tzlocal()), 'Retention': 0, 'StorageDescriptor': {'Columns': [{'Name': 'col0', 'Type': 'string'}, {'Name': 'col1', 'Type': 'string'}, {'Name': 'col2', 'Type': 'string'}, {'Name': 'col3', 'Type': 'string'}, {'Name': 'col4', 'Type': 'string'}, {'Name': 'col5', 'Type': 'string'}, {'Name': 'col6', 'Type': 'string'}, {'Name': 'col7', 'Type': 'string'}], 'Location': 's3://schoolfriends-bym/school_teacher/', 'InputFormat': 'org.apache.hadoop.mapred.TextInputFormat', 'OutputFormat': 'org.apache.hadoop.hive.ql.io.HiveIgnoreKeyTextOutputFormat', 'Compressed': False, 'NumberOfBuckets': -1, 'SerdeInfo': {'SerializationLibrary': 'org.apache.hadoop.hive.serde2.lazy.LazySimpleSerDe', 'Parameters': {'field.delim': ','}}, 'BucketColumns': [], 'SortColumns': [], 'Parameters': {'sizeKey': '5321', 'objectCount': '1', 'UPDATED_BY_CRAWLER': 'crawler_school_teacher', 'recordCount': '61', 'CrawlerSchemaSerializerVersion': '1.0', 'averageRecordSize': '87', 'compressionType': 'none', 'CrawlerSchemaDeserializerVersion': '1.0', 'classification': 'csv', 'columnsOrdered': 'true', 'delimiter': ',', 'areColumnsQuoted': 'false', 'CRAWL_RUN_ID': 'd63e6002-188f-4ddf-ba74-24e5189abdcc', 'typeOfData': 'file'}, 'StoredAsSubDirectories': False}, 'PartitionKeys': [], 'TableType': 'EXTERNAL_TABLE', 'Parameters': {'sizeKey': '5321', 'objectCount': '1', 'UPDATED_BY_CRAWLER': 'crawler_school_teacher', 'recordCount': '61', 'CrawlerSchemaSerializerVersion': '1.0', 'averageRecordSize': '87', 'compressionType': 'none', 'CrawlerSchemaDeserializerVersion': '1.0', 'classification': 'csv', 'columnsOrdered': 'true', 'delimiter': ',', 'areColumnsQuoted': 'false', 'CRAWL_RUN_ID': 'd63e6002-188f-4ddf-ba74-24e5189abdcc', 'typeOfData': 'file'}, 'CreatedBy': 'arn:aws:sts::932744610695:assumed-role/AWSGlueServiceRole-Schoolfriends/AWS-Crawler', 'IsRegisteredWithLakeFormation': False, 'CatalogId': '932744610695', 'VersionId': '0', 'IsMultiDialectView': False}]\n",
      "at_basic_inquiry_val\n",
      "at_formula_code\n",
      "at_low_scale\n",
      "at_question\n",
      "at_question_choice\n",
      "at_question_extra\n",
      "at_scale_code\n",
      "at_sub_psy_item\n",
      "at_user_formula_score\n",
      "at_user_scale_score\n",
      "at_user_testing_paper\n",
      "at_user_testing_paper_pn\n",
      "at_user_testing_paper_sct\n",
      "at_user_testing_paper_tr\n",
      "member\n",
      "psy_class\n",
      "psy_estimate\n",
      "psy_ord\n",
      "psy_ord_class\n",
      "psy_target\n",
      "school_class\n",
      "school_info\n",
      "school_student\n",
      "school_teacher\n"
     ]
    }
   ],
   "source": [
    "# 크롤링 후 테이블 데이터 타입 재정의\n",
    "# 강제 string\n",
    "import boto3\n",
    "\n",
    "region_name = \"ap-northeast-2\"\n",
    "database_name = 'schoolfriends'\n",
    "\n",
    "# 클라이언트 생성\n",
    "glue_client = boto3.client(\"glue\", region_name=region_name)\n",
    "table_list = []\n",
    "table_paginator = glue_client.get_paginator('get_tables') # get_paginator은 api은 최대 100개 반환하기 때문에 이를 방지하기 위해 페이지네이션 처리\n",
    "for page in table_paginator.paginate(DatabaseName=database_name): # 데이터베이스 이름이 database_name인 페이지의 순환 설정\n",
    "    print(page['TableList']) # 각 페이지의 테이블 목록 출력\n",
    "    for table in page['TableList']: # 각 테이블에 대한 순환 설정\n",
    "        print(table['Name'])\n",
    "        table_list.append(table['Name']) # 테이블 이름을 리스트에 추가\n",
    "\n",
    "for table_name in table_list: # 모든 테이블 이름 반복\n",
    "    print(\"----------순환 중인 테이블----------\")\n",
    "    print('테이블 이름', table_name) # 순환 중인 테이블 이름\n",
    "    table_info = glue.get_table(DatabaseName=database_name, Name=table_name)[\"Table\"] # 순환중인 테이블 정보 가져오기\n",
    "    table_col_info = table_info['StorageDescriptor'] # 테이블의 StorageDescriptor 정보 가져오기 ex {'Columns': [{'Name': 'user_testing_no', 'Type': 'string'}, {'Name': 'psy_item_id', 'Type': 'string'},\n",
    "    print(\"----------테이블 정보----------\")\n",
    "    print(table_col_info)\n",
    "    for col in table_col_info['Columns']:\n",
    "        print(\"------------변경되는 컬럼의 타입------------\")\n",
    "        print(col['Name'], col['Type'])\n",
    "        col['Type'] = 'string'  # 모든 컬럼의 타입을 string으로 변경\n",
    "    print(\"-----------------------------------------------------\")\n",
    "    print('Name :', table_info[\"Name\"])\n",
    "    print('Description :', table_info.get(\"Description\"))\n",
    "    print('Owner :', table_info.get(\"Owner\"))\n",
    "    print('Parameters :', table_info.get(\"Parameters\", {}))\n",
    "    print('TableType :', table_info.get(\"TableType\", \"EXTERNAL_TABLE\"))\n",
    "    print('PartitionKeys :', table_info.get(\"PartitionKeys\", []))\n",
    "    print('StorageDescriptor :', table_info)\n",
    "    print(\"-----------------------------------------------------\")\n",
    "\n",
    "    # 테이블 정보 업데이트\n",
    "    glue.update_table(\n",
    "        DatabaseName=database_name,\n",
    "        TableInput={\n",
    "            'Name': table_info[\"Name\"], # 테이블 이름\n",
    "            'Description': table_info.get(\"Description\", \"\"), # 테이블 설명\n",
    "            'Owner': table_info.get(\"Owner\"), # 테이블 소유자\n",
    "            'Parameters': table_info.get(\"Parameters\", {}), # 테이블 파라미터\n",
    "            'TableType': table_info.get(\"TableType\", \"EXTERNAL_TABLE\"), # 테이블 타입\n",
    "            'PartitionKeys': table_info.get(\"PartitionKeys\", []), # 파티션 키\n",
    "            'StorageDescriptor': table_col_info\n",
    "        }\n",
    "    )\n",
    "    print(f\"✅ {table_name} 의 모든 컬럼 타입이 string으로 변경 완료\")"
   ]
  },
  {
   "cell_type": "code",
   "execution_count": null,
   "id": "d75d262e",
   "metadata": {},
   "outputs": [],
   "source": []
  }
 ],
 "metadata": {
  "kernelspec": {
   "display_name": "base",
   "language": "python",
   "name": "python3"
  },
  "language_info": {
   "codemirror_mode": {
    "name": "ipython",
    "version": 3
   },
   "file_extension": ".py",
   "mimetype": "text/x-python",
   "name": "python",
   "nbconvert_exporter": "python",
   "pygments_lexer": "ipython3",
   "version": "3.13.5"
  }
 },
 "nbformat": 4,
 "nbformat_minor": 5
}
