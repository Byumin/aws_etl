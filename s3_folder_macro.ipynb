{
 "cells": [
  {
   "cell_type": "code",
   "execution_count": 1,
   "id": "51770667",
   "metadata": {},
   "outputs": [],
   "source": [
    "# s3 특정 경로에 있는 파일 이름 리딩\n",
    "# 정재 후 폴더 생성"
   ]
  },
  {
   "cell_type": "code",
   "execution_count": 2,
   "id": "51cfc93b",
   "metadata": {},
   "outputs": [
    {
     "name": "stdout",
     "output_type": "stream",
     "text": [
      "['c:\\\\ProgramData\\\\anaconda3\\\\python313.zip', 'c:\\\\ProgramData\\\\anaconda3\\\\DLLs', 'c:\\\\ProgramData\\\\anaconda3\\\\Lib', 'c:\\\\ProgramData\\\\anaconda3', '', 'C:\\\\Users\\\\USER\\\\AppData\\\\Roaming\\\\Python\\\\Python313\\\\site-packages', 'c:\\\\ProgramData\\\\anaconda3\\\\Lib\\\\site-packages', 'c:\\\\ProgramData\\\\anaconda3\\\\Lib\\\\site-packages\\\\win32', 'c:\\\\ProgramData\\\\anaconda3\\\\Lib\\\\site-packages\\\\win32\\\\lib', 'c:\\\\ProgramData\\\\anaconda3\\\\Lib\\\\site-packages\\\\Pythonwin']\n",
      "c:\\ProgramData\\anaconda3\\python.exe\n"
     ]
    }
   ],
   "source": [
    "import sys\n",
    "print(sys.path)\n",
    "print(sys.executable)"
   ]
  },
  {
   "cell_type": "code",
   "execution_count": 3,
   "id": "5dfb4ce2",
   "metadata": {},
   "outputs": [],
   "source": [
    "import boto3\n",
    "import re\n",
    "\n",
    "# S3 클라이언트 생성\n",
    "s3 = boto3.client(\"s3\")\n",
    "\n",
    "bucket_name = \"schoolfriends-bym\"\n",
    "\n",
    "# 버킷 내 모든 객체 가져오기\n",
    "response = s3.list_objects_v2(Bucket=bucket_name)"
   ]
  },
  {
   "cell_type": "code",
   "execution_count": null,
   "id": "9bdfab93",
   "metadata": {},
   "outputs": [
    {
     "name": "stdout",
     "output_type": "stream",
     "text": [
      "Processing folder: at_basic_inquiry_val/\n",
      "Processing folder: at_formula_code/\n",
      "Processing folder: at_low_scale/\n",
      "Processing folder: at_question/\n",
      "Processing folder: at_question_choice/\n",
      "Processing folder: at_question_extra/\n",
      "Processing folder: at_scale_code/\n",
      "Processing folder: at_sub_psy_item/\n",
      "Processing folder: at_user_formula_score/\n",
      "Processing folder: at_user_scale_score/\n",
      "Processing folder: at_user_testing_paper/\n",
      "Processing folder: at_user_testing_paper_pn/\n",
      "Processing folder: at_user_testing_paper_sct/\n",
      "Processing folder: at_user_testing_paper_tr/\n",
      "Processing folder: member/\n",
      "Processing folder: school_class/\n"
     ]
    }
   ],
   "source": [
    "for obj in response.get(\"Contents\", []):\n",
    "    key = obj[\"Key\"]\n",
    "    if key.endswith(\"/\"):\n",
    "        print(f\"Processing folder: {key}\")\n",
    "    else:\n",
    "        pass\n",
    "# 왜 이거밖에 조회가 안됨?"
   ]
  },
  {
   "cell_type": "code",
   "execution_count": 5,
   "id": "6273a7be",
   "metadata": {},
   "outputs": [
    {
     "name": "stdout",
     "output_type": "stream",
     "text": [
      "at_basic_inquiry_val/\n",
      "at_basic_inquiry_val/AT_BASIC_INQUIRY_VAL_202508291453.csv\n",
      "at_formula_code/\n",
      "at_formula_code/AT_FORMULA_CODE_202508291455.csv\n",
      "at_low_scale/\n",
      "at_low_scale/AT_LOW_SCALE_202508291455.csv\n",
      "at_question/\n",
      "at_question/AT_QUESTION_202508291458.csv\n",
      "at_question_choice/\n",
      "at_question_choice/AT_QUESTION_CHOICE_202508291459.csv\n",
      "at_question_extra/\n",
      "at_question_extra/AT_QUESTION_EXTRA_202508291500.csv\n",
      "at_scale_code/\n",
      "at_scale_code/AT_SCALE_CODE_202508291500.csv\n",
      "at_sub_psy_item/\n",
      "at_sub_psy_item/AT_SUB_PSY_ITEM_202508291500.csv\n",
      "at_user_formula_score/\n",
      "at_user_formula_score/AT_USER_FORMULA_SCORE_202508291501.csv\n",
      "at_user_scale_score/\n",
      "at_user_scale_score/AT_USER_SCALE_SCORE_202508291503.csv\n",
      "at_user_testing_paper/\n",
      "at_user_testing_paper/AT_USER_TESTING_PAPER_202508291503.csv\n",
      "at_user_testing_paper_pn/\n",
      "at_user_testing_paper_pn/AT_USER_TESTING_PAPER_PN_202508291504.csv\n",
      "at_user_testing_paper_sct/\n",
      "at_user_testing_paper_sct/AT_USER_TESTING_PAPER_SCT_202508291505.csv\n",
      "at_user_testing_paper_tr/\n",
      "at_user_testing_paper_tr/AT_USER_TESTING_PAPER_TR_202508291505.csv\n",
      "member/\n",
      "member/_MEMBER__202508291509.csv\n",
      "psy_class/PSY_CLASS_202508291509.csv\n",
      "psy_estimate/PSY_ESTIMATE_202508291511.csv\n",
      "psy_ord/PSY_ORD_202508291511.csv\n",
      "psy_ord/PSY_ORD_CLASS_202508291511.csv\n",
      "psy_target/PSY_TARGET_DETAIL_202508291511.csv\n",
      "school_class/\n",
      "school_class/SCHOOL_CLASS_202508291512.csv\n",
      "school_info/SCHOOL_INFO_202508291512.csv\n",
      "school_student/SCHOOL_STUDENT_202508291512.csv\n",
      "school_teacher/SCHOOL_TEACHER_202508291512.csv\n"
     ]
    }
   ],
   "source": [
    "for obj in response.get(\"Contents\", []):\n",
    "    print(obj[\"Key\"])"
   ]
  },
  {
   "cell_type": "code",
   "execution_count": null,
   "id": "1a619040",
   "metadata": {},
   "outputs": [
    {
     "name": "stdout",
     "output_type": "stream",
     "text": [
      "Processing file: PSY_CLASS_202508291509.csv\n",
      "<re.Match object; span=(0, 9), match='PSY_CLASS'>\n",
      "psy_class\n",
      "Moving PSY_CLASS_202508291509.csv to psy_class/PSY_CLASS_202508291509.csv\n",
      "Processing file: PSY_ESTIMATE_202508291511.csv\n",
      "<re.Match object; span=(0, 12), match='PSY_ESTIMATE'>\n",
      "psy_estimate\n",
      "Moving PSY_ESTIMATE_202508291511.csv to psy_estimate/PSY_ESTIMATE_202508291511.csv\n",
      "Processing file: PSY_ORD_202508291511.csv\n",
      "<re.Match object; span=(0, 7), match='PSY_ORD'>\n",
      "psy_ord\n",
      "Moving PSY_ORD_202508291511.csv to psy_ord/PSY_ORD_202508291511.csv\n",
      "Processing file: PSY_ORD_CLASS_202508291511.csv\n",
      "<re.Match object; span=(0, 7), match='PSY_ORD'>\n",
      "psy_ord\n",
      "Moving PSY_ORD_CLASS_202508291511.csv to psy_ord/PSY_ORD_CLASS_202508291511.csv\n",
      "Processing file: PSY_TARGET_DETAIL_202508291511.csv\n",
      "<re.Match object; span=(0, 10), match='PSY_TARGET'>\n",
      "psy_target\n",
      "Moving PSY_TARGET_DETAIL_202508291511.csv to psy_target/PSY_TARGET_DETAIL_202508291511.csv\n",
      "Processing file: SCHOOL_INFO_202508291512.csv\n",
      "<re.Match object; span=(0, 11), match='SCHOOL_INFO'>\n",
      "school_info\n",
      "Moving SCHOOL_INFO_202508291512.csv to school_info/SCHOOL_INFO_202508291512.csv\n",
      "Processing file: SCHOOL_STUDENT_202508291512.csv\n",
      "<re.Match object; span=(0, 14), match='SCHOOL_STUDENT'>\n",
      "school_student\n",
      "Moving SCHOOL_STUDENT_202508291512.csv to school_student/SCHOOL_STUDENT_202508291512.csv\n",
      "Processing file: SCHOOL_TEACHER_202508291512.csv\n",
      "<re.Match object; span=(0, 14), match='SCHOOL_TEACHER'>\n",
      "school_teacher\n",
      "Moving SCHOOL_TEACHER_202508291512.csv to school_teacher/SCHOOL_TEACHER_202508291512.csv\n"
     ]
    }
   ],
   "source": [
    "# CSV 파일만 폴더 만들어서 이동 및 삭제 처리\n",
    "for obj in response.get(\"Contents\", []):\n",
    "    key = obj[\"Key\"]\n",
    "    if \"/\" not in key and key.lower().endswith(\".csv\"):\n",
    "        print(f\"Processing file: {key}\")\n",
    "        match = re.search(r\"([A-Z]+)_([A-Z]+)\", key)\n",
    "        print(match)\n",
    "        folder_name = match.group(0).lower()\n",
    "        print(folder_name)\n",
    "        new_key = f\"{folder_name}/{key}\"\n",
    "        print(f\"Moving {key} to {new_key}\")\n",
    "\n",
    "        # S3 내에서 파일 복사\n",
    "        s3.copy_object(\n",
    "            Bucket=bucket_name,\n",
    "            CopySource={\"Bucket\": bucket_name, \"Key\": key},\n",
    "            Key=new_key\n",
    "        )\n",
    "\n",
    "        # 원본 삭제\n",
    "        s3.delete_object(Bucket=bucket_name, Key=key)\n",
    "    else:\n",
    "        pass"
   ]
  },
  {
   "cell_type": "code",
   "execution_count": 30,
   "id": "30828b7b",
   "metadata": {},
   "outputs": [
    {
     "name": "stdout",
     "output_type": "stream",
     "text": [
      "s3에 있는 폴더명 : ['at_basic_inquiry_val', 'at_formula_code', 'at_low_scale', 'at_question', 'at_question_choice', 'at_question_extra', 'at_scale_code', 'at_sub_psy_item', 'at_user_formula_score', 'at_user_scale_score', 'at_user_testing_paper', 'at_user_testing_paper_pn', 'at_user_testing_paper_sct', 'at_user_testing_paper_tr', 'member', 'school_class']\n",
      "Crawler 'crawler_at_basic_inquiry_val' created successfully.\n",
      "Crawler 'crawler_at_formula_code' created successfully.\n",
      "Crawler 'crawler_at_low_scale' created successfully.\n",
      "Crawler 'crawler_at_question' created successfully.\n",
      "Crawler 'crawler_at_question_choice' created successfully.\n",
      "Crawler 'crawler_at_question_extra' created successfully.\n",
      "Crawler 'crawler_at_scale_code' created successfully.\n",
      "Crawler 'crawler_at_sub_psy_item' created successfully.\n",
      "Crawler 'crawler_at_user_formula_score' created successfully.\n",
      "Crawler 'crawler_at_user_scale_score' created successfully.\n",
      "Crawler 'crawler_at_user_testing_paper' created successfully.\n",
      "Crawler 'crawler_at_user_testing_paper_pn' created successfully.\n",
      "Crawler 'crawler_at_user_testing_paper_sct' created successfully.\n",
      "Crawler 'crawler_at_user_testing_paper_tr' created successfully.\n",
      "Crawler 'crawler_member' created successfully.\n",
      "Crawler 'crawler_school_class' created successfully.\n"
     ]
    }
   ],
   "source": [
    "# 폴더 이름 리스트화\n",
    "s3 = boto3.client(\"s3\")\n",
    "bucket_name = \"schoolfriends-bym\"\n",
    "response = s3.list_objects_v2(Bucket=bucket_name)\n",
    "folder_names = []\n",
    "for obj in response.get(\"Contents\", []):\n",
    "    key = obj[\"Key\"]\n",
    "    if \"/\" in key and key.endswith(\"/\"):\n",
    "        table_name = key.split(\"/\")[0]\n",
    "        folder_names.append(table_name)\n",
    "    else:\n",
    "        pass\n",
    "print('s3에 있는 폴더명 :', folder_names)\n",
    "\n",
    "# s3 폴더 별로 크롤러 만들어서 아테네 테이블 만들때\n",
    "glue = boto3.client(\"glue\", region_name=\"ap-northeast-2\")\n",
    "\n",
    "# 공통 파라미터\n",
    "role_name = 'arn:aws:iam::932744610695:role/service-role/AWSGlueServiceRole-Schoolfriends'\n",
    "database_name = 'schoolfriends'\n",
    "bucket_name = 'schoolfriends-bym'\n",
    "\n",
    "for folder in folder_names:\n",
    "    crawler_name = f\"crawler_{folder}\"\n",
    "    s3_target_path = f\"s3://{bucket_name}/{folder}/\"\n",
    "    \n",
    "    try:\n",
    "        response = glue.create_crawler(\n",
    "            Name=crawler_name,\n",
    "            Role=role_name,\n",
    "            DatabaseName=database_name,\n",
    "            Targets={'S3Targets': [{'Path': s3_target_path}]},\n",
    "            SchemaChangePolicy={\n",
    "                'UpdateBehavior': 'UPDATE_IN_DATABASE',\n",
    "                'DeleteBehavior': 'DEPRECATE_IN_DATABASE'\n",
    "            }\n",
    "        )\n",
    "        print(f\"Crawler '{crawler_name}' created successfully.\")\n",
    "    except glue.exceptions.AlreadyExistsException:\n",
    "        print(f\"Crawler '{crawler_name}' already exists.\")\n",
    "    except Exception as e:\n",
    "        print(f\"Error creating crawler '{crawler_name}': {e}\")"
   ]
  },
  {
   "cell_type": "code",
   "execution_count": 33,
   "id": "b2a71010",
   "metadata": {},
   "outputs": [
    {
     "name": "stdout",
     "output_type": "stream",
     "text": [
      "['amazon_reviews_partitioned_crawler', 'crawler_at_basic_inquiry_val', 'crawler_at_formula_code', 'crawler_at_low_scale', 'crawler_at_question', 'crawler_at_question_choice', 'crawler_at_question_extra', 'crawler_at_scale_code', 'crawler_at_sub_psy_item', 'crawler_at_user_formula_score', 'crawler_at_user_scale_score', 'crawler_at_user_testing_paper', 'crawler_at_user_testing_paper_pn', 'crawler_at_user_testing_paper_sct', 'crawler_at_user_testing_paper_tr', 'crawler_member', 'crawler_school_class', 'schoolfriends_member_crawler']\n"
     ]
    }
   ],
   "source": [
    "# 각 크롤러의 속성을 변경하고 싶은 경우\n",
    "# - 이미 생성된 Glue의 크롤러의 속성을 변경하고 싶은 경우\n",
    "# - 예를 들어 스키마 구조 변경 정책(SchemaChangePolicy) 등 일괄 변경\n",
    "import boto3\n",
    "\n",
    "glue = boto3.client(\"glue\", region_name=\"ap-northeast-2\")\n",
    "\n",
    "# 크롤러 이름 리스트 가져오기\n",
    "response = glue.list_crawlers()\n",
    "crawler_names = response.get(\"CrawlerNames\", [])\n",
    "print(crawler_names)"
   ]
  },
  {
   "cell_type": "code",
   "execution_count": 35,
   "id": "ba7fd702",
   "metadata": {},
   "outputs": [
    {
     "name": "stdout",
     "output_type": "stream",
     "text": [
      "✅ crawler_at_basic_inquiry_val 의 SchemaChangePolicy 업데이트 완료\n",
      "✅ crawler_at_formula_code 의 SchemaChangePolicy 업데이트 완료\n",
      "✅ crawler_at_low_scale 의 SchemaChangePolicy 업데이트 완료\n",
      "✅ crawler_at_question 의 SchemaChangePolicy 업데이트 완료\n",
      "✅ crawler_at_question_choice 의 SchemaChangePolicy 업데이트 완료\n",
      "✅ crawler_at_question_extra 의 SchemaChangePolicy 업데이트 완료\n",
      "✅ crawler_at_scale_code 의 SchemaChangePolicy 업데이트 완료\n",
      "✅ crawler_at_sub_psy_item 의 SchemaChangePolicy 업데이트 완료\n",
      "✅ crawler_at_user_formula_score 의 SchemaChangePolicy 업데이트 완료\n",
      "✅ crawler_at_user_scale_score 의 SchemaChangePolicy 업데이트 완료\n",
      "✅ crawler_at_user_testing_paper 의 SchemaChangePolicy 업데이트 완료\n",
      "✅ crawler_at_user_testing_paper_pn 의 SchemaChangePolicy 업데이트 완료\n",
      "✅ crawler_at_user_testing_paper_sct 의 SchemaChangePolicy 업데이트 완료\n",
      "✅ crawler_at_user_testing_paper_tr 의 SchemaChangePolicy 업데이트 완료\n",
      "✅ crawler_member 의 SchemaChangePolicy 업데이트 완료\n",
      "✅ crawler_school_class 의 SchemaChangePolicy 업데이트 완료\n"
     ]
    }
   ],
   "source": [
    "import time\n",
    "for crawler in crawler_names:\n",
    "    if crawler.startswith(\"crawler_\"):\n",
    "        try:\n",
    "            glue.update_crawler(\n",
    "                Name=crawler,\n",
    "                SchemaChangePolicy={\n",
    "                    \"UpdateBehavior\": \"LOG\",\n",
    "                    \"DeleteBehavior\": \"LOG\"\n",
    "                }\n",
    "            )\n",
    "            print(f\"✅ {crawler} 의 SchemaChangePolicy 업데이트 완료\")\n",
    "            time.sleep(1)\n",
    "        except Exception as e:\n",
    "            print(f\"❌ {crawler} 업데이트 실패: {repr(e)}\")"
   ]
  },
  {
   "cell_type": "code",
   "execution_count": null,
   "id": "b7e329b8",
   "metadata": {},
   "outputs": [],
   "source": []
  }
 ],
 "metadata": {
  "kernelspec": {
   "display_name": "base",
   "language": "python",
   "name": "python3"
  },
  "language_info": {
   "codemirror_mode": {
    "name": "ipython",
    "version": 3
   },
   "file_extension": ".py",
   "mimetype": "text/x-python",
   "name": "python",
   "nbconvert_exporter": "python",
   "pygments_lexer": "ipython3",
   "version": "3.13.5"
  }
 },
 "nbformat": 4,
 "nbformat_minor": 5
}
