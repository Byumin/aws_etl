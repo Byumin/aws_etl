{
 "cells": [
  {
   "cell_type": "code",
   "execution_count": 1,
   "id": "51770667",
   "metadata": {},
   "outputs": [],
   "source": [
    "# s3 특정 경로에 있는 파일 이름 리딩\n",
    "# 정재 후 폴더 생성"
   ]
  },
  {
   "cell_type": "code",
   "execution_count": 4,
   "id": "51cfc93b",
   "metadata": {},
   "outputs": [
    {
     "name": "stdout",
     "output_type": "stream",
     "text": [
      "['c:\\\\ProgramData\\\\anaconda3\\\\python313.zip', 'c:\\\\ProgramData\\\\anaconda3\\\\DLLs', 'c:\\\\ProgramData\\\\anaconda3\\\\Lib', 'c:\\\\ProgramData\\\\anaconda3', '', 'C:\\\\Users\\\\USER\\\\AppData\\\\Roaming\\\\Python\\\\Python313\\\\site-packages', 'c:\\\\ProgramData\\\\anaconda3\\\\Lib\\\\site-packages', 'c:\\\\ProgramData\\\\anaconda3\\\\Lib\\\\site-packages\\\\win32', 'c:\\\\ProgramData\\\\anaconda3\\\\Lib\\\\site-packages\\\\win32\\\\lib', 'c:\\\\ProgramData\\\\anaconda3\\\\Lib\\\\site-packages\\\\Pythonwin']\n",
      "c:\\ProgramData\\anaconda3\\python.exe\n"
     ]
    }
   ],
   "source": [
    "import sys\n",
    "print(sys.path)\n",
    "print(sys.executable)"
   ]
  },
  {
   "cell_type": "code",
   "execution_count": 4,
   "id": "5dfb4ce2",
   "metadata": {},
   "outputs": [
    {
     "ename": "ModuleNotFoundError",
     "evalue": "No module named 'boto3'",
     "output_type": "error",
     "traceback": [
      "\u001b[1;31m---------------------------------------------------------------------------\u001b[0m",
      "\u001b[1;31mModuleNotFoundError\u001b[0m                       Traceback (most recent call last)",
      "Cell \u001b[1;32mIn[4], line 1\u001b[0m\n\u001b[1;32m----> 1\u001b[0m \u001b[38;5;28;01mimport\u001b[39;00m\u001b[38;5;250m \u001b[39m\u001b[38;5;21;01mboto3\u001b[39;00m\n\u001b[0;32m      2\u001b[0m \u001b[38;5;28;01mimport\u001b[39;00m\u001b[38;5;250m \u001b[39m\u001b[38;5;21;01mre\u001b[39;00m\n\u001b[0;32m      4\u001b[0m \u001b[38;5;66;03m# S3 클라이언트 생성\u001b[39;00m\n",
      "\u001b[1;31mModuleNotFoundError\u001b[0m: No module named 'boto3'"
     ]
    }
   ],
   "source": [
    "import boto3\n",
    "import re\n",
    "\n",
    "# S3 클라이언트 생성\n",
    "s3 = boto3.client(\"s3\")\n",
    "\n",
    "bucket_name = \"schoolfriends-bym\"\n",
    "\n",
    "# 버킷 내 모든 객체 가져오기\n",
    "response = s3.list_objects_v2(Bucket=bucket_name, Prefix=\"data/\")"
   ]
  },
  {
   "cell_type": "code",
   "execution_count": null,
   "id": "ea76180f",
   "metadata": {},
   "outputs": [],
   "source": [
    "for obj in response.get(\"Contents\", []):\n",
    "    key = obj[\"Key\"]\n",
    "    \n",
    "    # CSV 파일만 처리\n",
    "    if key.lower().endswith(\".csv\"):\n",
    "        match = re.search(r\"_([A-Z]+)__\", key)\n",
    "        if match:\n",
    "            folder = match.group(1).lower()  # 소문자로 변환해서 폴더 이름으로\n",
    "            new_key = f\"{folder}/{key.split('/')[-1]}\"\n",
    "            \n",
    "            print(f\"Moving {key} -> {new_key}\")\n",
    "            \n",
    "            # S3 내에서 파일 복사\n",
    "            s3.copy_object(\n",
    "                Bucket=bucket_name,\n",
    "                CopySource={\"Bucket\": bucket_name, \"Key\": key},\n",
    "                Key=new_key\n",
    "            )\n",
    "            \n",
    "            # 원본 삭제\n",
    "            s3.delete_object(Bucket=bucket_name, Key=key)"
   ]
  }
 ],
 "metadata": {
  "kernelspec": {
   "display_name": "base",
   "language": "python",
   "name": "python3"
  },
  "language_info": {
   "codemirror_mode": {
    "name": "ipython",
    "version": 3
   },
   "file_extension": ".py",
   "mimetype": "text/x-python",
   "name": "python",
   "nbconvert_exporter": "python",
   "pygments_lexer": "ipython3",
   "version": "3.13.5"
  }
 },
 "nbformat": 4,
 "nbformat_minor": 5
}
